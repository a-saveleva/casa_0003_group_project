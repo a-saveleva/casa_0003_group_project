{
 "cells": [
  {
   "cell_type": "code",
   "execution_count": 2,
   "metadata": {},
   "outputs": [],
   "source": [
    "# %pip install OSMPythonTools"
   ]
  },
  {
   "cell_type": "code",
   "execution_count": 1,
   "metadata": {},
   "outputs": [],
   "source": [
    "# %pip install shapely"
   ]
  },
  {
   "cell_type": "code",
   "execution_count": 16,
   "metadata": {},
   "outputs": [
    {
     "name": "stdout",
     "output_type": "stream",
     "text": [
      "Collecting osmnx\n",
      "  Downloading osmnx-2.0.2-py3-none-any.whl.metadata (4.9 kB)\n",
      "Requirement already satisfied: geopandas>=1.0 in /opt/conda/lib/python3.11/site-packages (from osmnx) (1.0.1)\n",
      "Requirement already satisfied: networkx>=2.5 in /opt/conda/lib/python3.11/site-packages (from osmnx) (3.3)\n",
      "Requirement already satisfied: numpy>=1.22 in /opt/conda/lib/python3.11/site-packages (from osmnx) (1.26.4)\n",
      "Requirement already satisfied: pandas>=1.4 in /opt/conda/lib/python3.11/site-packages (from osmnx) (2.2.2)\n",
      "Requirement already satisfied: requests>=2.27 in /opt/conda/lib/python3.11/site-packages (from osmnx) (2.32.3)\n",
      "Requirement already satisfied: shapely>=2.0 in /opt/conda/lib/python3.11/site-packages (from osmnx) (2.0.6)\n",
      "Requirement already satisfied: pyogrio>=0.7.2 in /opt/conda/lib/python3.11/site-packages (from geopandas>=1.0->osmnx) (0.9.0)\n",
      "Requirement already satisfied: packaging in /opt/conda/lib/python3.11/site-packages (from geopandas>=1.0->osmnx) (24.1)\n",
      "Requirement already satisfied: pyproj>=3.3.0 in /opt/conda/lib/python3.11/site-packages (from geopandas>=1.0->osmnx) (3.6.1)\n",
      "Requirement already satisfied: python-dateutil>=2.8.2 in /opt/conda/lib/python3.11/site-packages (from pandas>=1.4->osmnx) (2.9.0)\n",
      "Requirement already satisfied: pytz>=2020.1 in /opt/conda/lib/python3.11/site-packages (from pandas>=1.4->osmnx) (2024.1)\n",
      "Requirement already satisfied: tzdata>=2022.7 in /opt/conda/lib/python3.11/site-packages (from pandas>=1.4->osmnx) (2024.1)\n",
      "Requirement already satisfied: charset-normalizer<4,>=2 in /opt/conda/lib/python3.11/site-packages (from requests>=2.27->osmnx) (3.3.2)\n",
      "Requirement already satisfied: idna<4,>=2.5 in /opt/conda/lib/python3.11/site-packages (from requests>=2.27->osmnx) (3.8)\n",
      "Requirement already satisfied: urllib3<3,>=1.21.1 in /opt/conda/lib/python3.11/site-packages (from requests>=2.27->osmnx) (2.2.2)\n",
      "Requirement already satisfied: certifi>=2017.4.17 in /opt/conda/lib/python3.11/site-packages (from requests>=2.27->osmnx) (2024.8.30)\n",
      "Requirement already satisfied: six>=1.5 in /opt/conda/lib/python3.11/site-packages (from python-dateutil>=2.8.2->pandas>=1.4->osmnx) (1.16.0)\n",
      "Downloading osmnx-2.0.2-py3-none-any.whl (99 kB)\n",
      "Installing collected packages: osmnx\n",
      "Successfully installed osmnx-2.0.2\n",
      "Note: you may need to restart the kernel to use updated packages.\n"
     ]
    }
   ],
   "source": [
    "%pip install osmnx"
   ]
  },
  {
   "cell_type": "code",
   "execution_count": 12,
   "metadata": {},
   "outputs": [],
   "source": [
    "import pandas as pd\n",
    "import geopandas as gpd\n",
    "\n",
    "from shapely.geometry import Point\n",
    "\n",
    "import matplotlib.pyplot as plt\n",
    "\n",
    "import requests\n",
    "from shapely.geometry import shape\n",
    "from shapely.geometry import Polygon, LineString, MultiLineString\n",
    "from shapely.ops import polygonize, unary_union\n",
    "\n",
    "import osmnx as ox\n",
    "\n",
    "# from OSMPythonTools.api import Api\n",
    "# from OSMPythonTools.overpass import Overpass\n",
    "# from OSMPythonTools.nominatim import Nominatim\n",
    "\n",
    "# import random\n",
    "# from shapely.geometry import Point, LineString\n",
    "# from shapely.ops import unary_union\n",
    "# from shapely import offset_curve\n",
    "# from dotenv import load_dotenv\n",
    "# import requests\n",
    "\n",
    "%matplotlib inline\n",
    "pd.set_option('display.max_columns', None)  # Show all columns"
   ]
  },
  {
   "cell_type": "code",
   "execution_count": 2,
   "metadata": {},
   "outputs": [],
   "source": [
    "uk_boundaries = gpd.read_file(\"natural_assets_data_raw/uk_boundaries.gpkg\")"
   ]
  },
  {
   "cell_type": "markdown",
   "metadata": {},
   "source": [
    "## Loading protected areas"
   ]
  },
  {
   "cell_type": "code",
   "execution_count": 63,
   "metadata": {},
   "outputs": [],
   "source": [
    "protected_areas = ox.features_from_place(\"United Kingdom\", tags = {\"boundary\": \"protected_area\"})\n",
    "protected_areas = protected_areas.to_crs(epsg=27700)\n",
    "protected_areas = protected_areas[protected_areas.geometry.geom_type.isin(['Polygon', 'MultiPolygon'])]\n",
    "protected_areas = protected_areas[~protected_areas.geometry.duplicated()].reset_index(drop=True)"
   ]
  },
  {
   "cell_type": "code",
   "execution_count": 72,
   "metadata": {},
   "outputs": [
    {
     "name": "stdout",
     "output_type": "stream",
     "text": [
      "<class 'geopandas.geodataframe.GeoDataFrame'>\n",
      "RangeIndex: 1145 entries, 0 to 1144\n",
      "Columns: 251 entries, geometry to short_name:en\n",
      "dtypes: geometry(1), object(250)\n",
      "memory usage: 2.2+ MB\n"
     ]
    }
   ],
   "source": [
    "protected_areas.info()"
   ]
  },
  {
   "cell_type": "code",
   "execution_count": 86,
   "metadata": {},
   "outputs": [
    {
     "name": "stdout",
     "output_type": "stream",
     "text": [
      "<class 'geopandas.geodataframe.GeoDataFrame'>\n",
      "Index: 1131 entries, 0 to 1144\n",
      "Data columns (total 18 columns):\n",
      " #   Column            Non-Null Count  Dtype   \n",
      "---  ------            --------------  -----   \n",
      " 0   geometry          1131 non-null   geometry\n",
      " 1   boundary          1131 non-null   object  \n",
      " 2   protect_class     369 non-null    object  \n",
      " 3   name              984 non-null    object  \n",
      " 4   protection_title  322 non-null    object  \n",
      " 5   wikidata          323 non-null    object  \n",
      " 6   wikipedia         265 non-null    object  \n",
      " 7   operator          209 non-null    object  \n",
      " 8   alt_name          72 non-null     object  \n",
      " 9   source            339 non-null    object  \n",
      " 10  leisure           475 non-null    object  \n",
      " 11  start_date        72 non-null     object  \n",
      " 12  website           238 non-null    object  \n",
      " 13  note              57 non-null     object  \n",
      " 14  designation       466 non-null    object  \n",
      " 15  natural           131 non-null    object  \n",
      " 16  name:gd           74 non-null     object  \n",
      " 17  type              371 non-null    object  \n",
      "dtypes: geometry(1), object(17)\n",
      "memory usage: 167.9+ KB\n"
     ]
    }
   ],
   "source": [
    "protected_areas_over100 = protected_areas\n",
    "protected_areas_over100 = protected_areas_over100[protected_areas_over100[\"access\"] != \"no\"]\n",
    "# threshold = 0.95  # 90% NaNs\n",
    "protected_areas_over100 = protected_areas_over100.loc[:, protected_areas_over100.isna().mean() < threshold]\n",
    "# protected_areas_over100.info()"
   ]
  },
  {
   "cell_type": "code",
   "execution_count": 89,
   "metadata": {},
   "outputs": [
    {
     "data": {
      "text/html": [
       "<div>\n",
       "<style scoped>\n",
       "    .dataframe tbody tr th:only-of-type {\n",
       "        vertical-align: middle;\n",
       "    }\n",
       "\n",
       "    .dataframe tbody tr th {\n",
       "        vertical-align: top;\n",
       "    }\n",
       "\n",
       "    .dataframe thead th {\n",
       "        text-align: right;\n",
       "    }\n",
       "</style>\n",
       "<table border=\"1\" class=\"dataframe\">\n",
       "  <thead>\n",
       "    <tr style=\"text-align: right;\">\n",
       "      <th></th>\n",
       "      <th>geometry</th>\n",
       "      <th>boundary</th>\n",
       "      <th>protect_class</th>\n",
       "      <th>name</th>\n",
       "      <th>protection_title</th>\n",
       "      <th>wikidata</th>\n",
       "      <th>wikipedia</th>\n",
       "      <th>operator</th>\n",
       "      <th>alt_name</th>\n",
       "      <th>source</th>\n",
       "      <th>leisure</th>\n",
       "      <th>start_date</th>\n",
       "      <th>website</th>\n",
       "      <th>note</th>\n",
       "      <th>designation</th>\n",
       "      <th>natural</th>\n",
       "      <th>name:gd</th>\n",
       "      <th>type</th>\n",
       "    </tr>\n",
       "  </thead>\n",
       "  <tbody>\n",
       "    <tr>\n",
       "      <th>0</th>\n",
       "      <td>POLYGON ((257432.785 147408.06, 257422.647 147...</td>\n",
       "      <td>protected_area</td>\n",
       "      <td>5</td>\n",
       "      <td>Exmoor National Park</td>\n",
       "      <td>national_park</td>\n",
       "      <td>Q593627</td>\n",
       "      <td>en:Exmoor</td>\n",
       "      <td>NaN</td>\n",
       "      <td>NaN</td>\n",
       "      <td>NaN</td>\n",
       "      <td>NaN</td>\n",
       "      <td>NaN</td>\n",
       "      <td>https://www.exmoor-nationalpark.gov.uk/</td>\n",
       "      <td>Contains public sector information licensed un...</td>\n",
       "      <td>national_park</td>\n",
       "      <td>NaN</td>\n",
       "      <td>NaN</td>\n",
       "      <td>boundary</td>\n",
       "    </tr>\n",
       "  </tbody>\n",
       "</table>\n",
       "</div>"
      ],
      "text/plain": [
       "                                            geometry        boundary  \\\n",
       "0  POLYGON ((257432.785 147408.06, 257422.647 147...  protected_area   \n",
       "\n",
       "  protect_class                  name protection_title wikidata  wikipedia  \\\n",
       "0             5  Exmoor National Park    national_park  Q593627  en:Exmoor   \n",
       "\n",
       "  operator alt_name source leisure start_date  \\\n",
       "0      NaN      NaN    NaN     NaN        NaN   \n",
       "\n",
       "                                   website  \\\n",
       "0  https://www.exmoor-nationalpark.gov.uk/   \n",
       "\n",
       "                                                note    designation natural  \\\n",
       "0  Contains public sector information licensed un...  national_park     NaN   \n",
       "\n",
       "  name:gd      type  \n",
       "0     NaN  boundary  "
      ]
     },
     "execution_count": 89,
     "metadata": {},
     "output_type": "execute_result"
    }
   ],
   "source": [
    "protected_areas_over100.head(1)"
   ]
  },
  {
   "cell_type": "code",
   "execution_count": 90,
   "metadata": {},
   "outputs": [],
   "source": [
    "protected_areas_over100 = protected_areas_over100[protected_areas_over100.geometry.intersects(uk_boundaries.union_all())]"
   ]
  },
  {
   "cell_type": "code",
   "execution_count": 92,
   "metadata": {},
   "outputs": [],
   "source": [
    "# fig, ax = plt.subplots(figsize=(20, 20))\n",
    "\n",
    "# protected_areas_over100.plot(ax=ax, cmap='tab20', alpha=0.6)\n",
    "\n",
    "# plt.title(\"Combined Features by Group\")\n",
    "# plt.legend()\n",
    "# plt.axis('off')\n",
    "# plt.show()"
   ]
  },
  {
   "cell_type": "code",
   "execution_count": 95,
   "metadata": {},
   "outputs": [],
   "source": [
    "protected_areas_over100.to_file(\"natural_assets_data_raw/protected_areas.gpkg\", layer='protected_areas', driver=\"GPKG\")"
   ]
  },
  {
   "cell_type": "markdown",
   "metadata": {},
   "source": [
    "## Loading parks"
   ]
  },
  {
   "cell_type": "code",
   "execution_count": 3,
   "metadata": {},
   "outputs": [
    {
     "name": "stderr",
     "output_type": "stream",
     "text": [
      "/opt/conda/lib/python3.11/site-packages/osmnx/_overpass.py:267: UserWarning: This area is 330 times your configured Overpass max query area size. It will automatically be divided up into multiple sub-queries accordingly. This may take a long time.\n",
      "  multi_poly_proj = utils_geo._consolidate_subdivide_geometry(poly_proj)\n"
     ]
    }
   ],
   "source": [
    "parks = ox.features_from_place(\"United Kingdom\", tags = {\"leisure\": \"park\", \"access\": \"public\"})\n",
    "parks = parks.to_crs(epsg=27700)\n",
    "\n",
    "parks = parks[parks.geometry.geom_type.isin(['Polygon', 'MultiPolygon'])]\n",
    "parks = parks[~parks.geometry.duplicated()].reset_index(drop=True)"
   ]
  },
  {
   "cell_type": "code",
   "execution_count": 38,
   "metadata": {},
   "outputs": [
    {
     "name": "stdout",
     "output_type": "stream",
     "text": [
      "<class 'geopandas.geodataframe.GeoDataFrame'>\n",
      "Index: 218 entries, 9 to 33798\n",
      "Data columns (total 21 columns):\n",
      " #   Column                            Non-Null Count  Dtype   \n",
      "---  ------                            --------------  -----   \n",
      " 0   geometry                          218 non-null    geometry\n",
      " 1   leisure                           218 non-null    object  \n",
      " 2   name                              213 non-null    object  \n",
      " 3   access                            21 non-null     object  \n",
      " 4   addr:city                         15 non-null     object  \n",
      " 5   addr:postcode                     15 non-null     object  \n",
      " 6   alt_name                          13 non-null     object  \n",
      " 7   website                           43 non-null     object  \n",
      " 8   tourism                           11 non-null     object  \n",
      " 9   wikidata                          98 non-null     object  \n",
      " 10  wikipedia                         71 non-null     object  \n",
      " 11  operator                          67 non-null     object  \n",
      " 12  operator:type                     35 non-null     object  \n",
      " 13  wheelchair                        11 non-null     object  \n",
      " 14  note                              20 non-null     object  \n",
      " 15  operator:wikidata                 35 non-null     object  \n",
      " 16  source                            43 non-null     object  \n",
      " 17  listed_status                     12 non-null     object  \n",
      " 18  type                              54 non-null     object  \n",
      " 19  boundary                          12 non-null     object  \n",
      " 20  communication:amateur_radio:pota  11 non-null     object  \n",
      "dtypes: geometry(1), object(20)\n",
      "memory usage: 37.5+ KB\n"
     ]
    }
   ],
   "source": [
    "parks_over100 = parks[parks.geometry.area > 1_000_000]\n",
    "parks_over100 = parks_over100[parks_over100[\"access\"] != \"private\"]\n",
    "threshold = 0.95  # 90% NaNs\n",
    "parks_over100 = parks_over100.loc[:, parks_over100.isna().mean() < threshold]\n",
    "parks_over100.info()"
   ]
  },
  {
   "cell_type": "code",
   "execution_count": 39,
   "metadata": {},
   "outputs": [
    {
     "data": {
      "text/html": [
       "<div>\n",
       "<style scoped>\n",
       "    .dataframe tbody tr th:only-of-type {\n",
       "        vertical-align: middle;\n",
       "    }\n",
       "\n",
       "    .dataframe tbody tr th {\n",
       "        vertical-align: top;\n",
       "    }\n",
       "\n",
       "    .dataframe thead th {\n",
       "        text-align: right;\n",
       "    }\n",
       "</style>\n",
       "<table border=\"1\" class=\"dataframe\">\n",
       "  <thead>\n",
       "    <tr style=\"text-align: right;\">\n",
       "      <th></th>\n",
       "      <th>geometry</th>\n",
       "      <th>leisure</th>\n",
       "      <th>name</th>\n",
       "      <th>access</th>\n",
       "      <th>addr:city</th>\n",
       "      <th>addr:postcode</th>\n",
       "      <th>alt_name</th>\n",
       "      <th>website</th>\n",
       "      <th>tourism</th>\n",
       "      <th>wikidata</th>\n",
       "      <th>wikipedia</th>\n",
       "      <th>operator</th>\n",
       "      <th>operator:type</th>\n",
       "      <th>wheelchair</th>\n",
       "      <th>note</th>\n",
       "      <th>operator:wikidata</th>\n",
       "      <th>source</th>\n",
       "      <th>listed_status</th>\n",
       "      <th>type</th>\n",
       "      <th>boundary</th>\n",
       "      <th>communication:amateur_radio:pota</th>\n",
       "    </tr>\n",
       "  </thead>\n",
       "  <tbody>\n",
       "    <tr>\n",
       "      <th>9</th>\n",
       "      <td>POLYGON ((455659.735 205492.151, 455662.648 20...</td>\n",
       "      <td>park</td>\n",
       "      <td>Shotover Country Park</td>\n",
       "      <td>NaN</td>\n",
       "      <td>NaN</td>\n",
       "      <td>NaN</td>\n",
       "      <td>NaN</td>\n",
       "      <td>NaN</td>\n",
       "      <td>NaN</td>\n",
       "      <td>Q24677877</td>\n",
       "      <td>NaN</td>\n",
       "      <td>NaN</td>\n",
       "      <td>NaN</td>\n",
       "      <td>NaN</td>\n",
       "      <td>NaN</td>\n",
       "      <td>NaN</td>\n",
       "      <td>NaN</td>\n",
       "      <td>NaN</td>\n",
       "      <td>multipolygon</td>\n",
       "      <td>NaN</td>\n",
       "      <td>NaN</td>\n",
       "    </tr>\n",
       "  </tbody>\n",
       "</table>\n",
       "</div>"
      ],
      "text/plain": [
       "                                            geometry leisure  \\\n",
       "9  POLYGON ((455659.735 205492.151, 455662.648 20...    park   \n",
       "\n",
       "                    name access addr:city addr:postcode alt_name website  \\\n",
       "9  Shotover Country Park    NaN       NaN           NaN      NaN     NaN   \n",
       "\n",
       "  tourism   wikidata wikipedia operator operator:type wheelchair note  \\\n",
       "9     NaN  Q24677877       NaN      NaN           NaN        NaN  NaN   \n",
       "\n",
       "  operator:wikidata source listed_status          type boundary  \\\n",
       "9               NaN    NaN           NaN  multipolygon      NaN   \n",
       "\n",
       "  communication:amateur_radio:pota  \n",
       "9                              NaN  "
      ]
     },
     "execution_count": 39,
     "metadata": {},
     "output_type": "execute_result"
    }
   ],
   "source": [
    "parks_over100.head(1) #see useful comments"
   ]
  },
  {
   "cell_type": "code",
   "execution_count": 41,
   "metadata": {},
   "outputs": [],
   "source": [
    "parks_over100.to_file(\"natural_assets_data_raw/parks_over100ha.gpkg\", layer='parks', driver=\"GPKG\")"
   ]
  },
  {
   "cell_type": "markdown",
   "metadata": {},
   "source": [
    "## Loading nature reserves"
   ]
  },
  {
   "cell_type": "code",
   "execution_count": 42,
   "metadata": {},
   "outputs": [
    {
     "name": "stderr",
     "output_type": "stream",
     "text": [
      "/opt/conda/lib/python3.11/site-packages/osmnx/_overpass.py:267: UserWarning: This area is 330 times your configured Overpass max query area size. It will automatically be divided up into multiple sub-queries accordingly. This may take a long time.\n",
      "  multi_poly_proj = utils_geo._consolidate_subdivide_geometry(poly_proj)\n"
     ]
    }
   ],
   "source": [
    "nature_reserves = ox.features_from_place(\"United Kingdom\", tags = {\"leisure\": \"nature_reserve\"})\n",
    "nature_reserves = nature_reserves.to_crs(epsg=27700)\n",
    "\n",
    "nature_reserves = nature_reserves[nature_reserves.geometry.geom_type.isin(['Polygon', 'MultiPolygon'])]\n",
    "nature_reserves = nature_reserves[~nature_reserves.geometry.duplicated()].reset_index(drop=True)"
   ]
  },
  {
   "cell_type": "code",
   "execution_count": 57,
   "metadata": {},
   "outputs": [
    {
     "name": "stdout",
     "output_type": "stream",
     "text": [
      "<class 'geopandas.geodataframe.GeoDataFrame'>\n",
      "Index: 76 entries, 9 to 3397\n",
      "Data columns (total 18 columns):\n",
      " #   Column            Non-Null Count  Dtype   \n",
      "---  ------            --------------  -----   \n",
      " 0   geometry          76 non-null     geometry\n",
      " 1   leisure           76 non-null     object  \n",
      " 2   name              69 non-null     object  \n",
      " 3   operator          26 non-null     object  \n",
      " 4   operator:type     4 non-null      object  \n",
      " 5   source            13 non-null     object  \n",
      " 6   website           19 non-null     object  \n",
      " 7   access            4 non-null      object  \n",
      " 8   wikidata          17 non-null     object  \n",
      " 9   wikipedia         13 non-null     object  \n",
      " 10  fixme             4 non-null      object  \n",
      " 11  designation       7 non-null      object  \n",
      " 12  natural           14 non-null     object  \n",
      " 13  boundary          20 non-null     object  \n",
      " 14  protection_title  4 non-null      object  \n",
      " 15  name:gd           4 non-null      object  \n",
      " 16  protect_class     6 non-null      object  \n",
      " 17  type              35 non-null     object  \n",
      "dtypes: geometry(1), object(17)\n",
      "memory usage: 11.3+ KB\n"
     ]
    },
    {
     "name": "stderr",
     "output_type": "stream",
     "text": [
      "/opt/conda/lib/python3.11/site-packages/geopandas/geodataframe.py:1750: UserWarning: Boolean Series key will be reindexed to match DataFrame index.\n",
      "  result = super().__getitem__(key)\n"
     ]
    }
   ],
   "source": [
    "nature_reserves_100 = nature_reserves[nature_reserves.geometry.area > 1_000_000]\n",
    "nature_reserves_100 = nature_reserves_100[~nature_reserves_100[\"access\"].isin([\"private\", \"no\"])]\n",
    "threshold = 0.95  # 90% NaNs\n",
    "nature_reserves_100 = nature_reserves_100.loc[:, nature_reserves_100.isna().mean() < threshold]\n",
    "nature_reserves_100.info()"
   ]
  },
  {
   "cell_type": "code",
   "execution_count": 58,
   "metadata": {},
   "outputs": [
    {
     "data": {
      "text/plain": [
       "access\n",
       "permissive    3\n",
       "permit        1\n",
       "Name: count, dtype: int64"
      ]
     },
     "execution_count": 58,
     "metadata": {},
     "output_type": "execute_result"
    }
   ],
   "source": [
    "nature_reserves_100[\"access\"].value_counts()"
   ]
  },
  {
   "cell_type": "markdown",
   "metadata": {},
   "source": [
    "nature_reserves_100 = nature_reserves_100[nature_reserves_100.geometry.intersects(uk_boundaries.union_all())]"
   ]
  },
  {
   "cell_type": "code",
   "execution_count": 61,
   "metadata": {},
   "outputs": [],
   "source": [
    "nature_reserves_100.to_file(\"natural_assets_data_raw/nature_reserves_over100ha.gpkg\", layer='nature_reserves', driver=\"GPKG\")"
   ]
  },
  {
   "cell_type": "code",
   "execution_count": 94,
   "metadata": {},
   "outputs": [],
   "source": [
    "# fig, ax = plt.subplots(figsize=(20, 20))\n",
    "\n",
    "# nature_reserves_100.plot(ax=ax, cmap='tab20', alpha=0.6)\n",
    "\n",
    "# plt.title(\"Combined Features by Group\")\n",
    "# plt.legend()\n",
    "# plt.axis('off')\n",
    "# plt.show()"
   ]
  },
  {
   "cell_type": "markdown",
   "metadata": {},
   "source": [
    "## Loading gardens"
   ]
  },
  {
   "cell_type": "code",
   "execution_count": 96,
   "metadata": {},
   "outputs": [
    {
     "name": "stderr",
     "output_type": "stream",
     "text": [
      "/opt/conda/lib/python3.11/site-packages/osmnx/_overpass.py:267: UserWarning: This area is 330 times your configured Overpass max query area size. It will automatically be divided up into multiple sub-queries accordingly. This may take a long time.\n",
      "  multi_poly_proj = utils_geo._consolidate_subdivide_geometry(poly_proj)\n"
     ]
    }
   ],
   "source": [
    "gardens = ox.features_from_place(\"United Kingdom\", tags = {\"leisure\": \"garden\"})\n",
    "gardens = gardens.to_crs(epsg=27700)\n",
    "gardens = gardens[gardens.geometry.geom_type.isin(['Polygon', 'MultiPolygon'])]\n",
    "gardens = gardens[~gardens.geometry.duplicated()].reset_index(drop=True)"
   ]
  },
  {
   "cell_type": "code",
   "execution_count": 99,
   "metadata": {},
   "outputs": [
    {
     "name": "stdout",
     "output_type": "stream",
     "text": [
      "<class 'geopandas.geodataframe.GeoDataFrame'>\n",
      "RangeIndex: 284045 entries, 0 to 284044\n",
      "Columns: 384 entries, geometry to power\n",
      "dtypes: geometry(1), object(383)\n",
      "memory usage: 832.2+ MB\n"
     ]
    }
   ],
   "source": [
    "gardens.info()"
   ]
  },
  {
   "cell_type": "code",
   "execution_count": 101,
   "metadata": {},
   "outputs": [
    {
     "name": "stdout",
     "output_type": "stream",
     "text": [
      "<class 'geopandas.geodataframe.GeoDataFrame'>\n",
      "Index: 119 entries, 1 to 264325\n",
      "Data columns (total 21 columns):\n",
      " #   Column         Non-Null Count  Dtype   \n",
      "---  ------         --------------  -----   \n",
      " 0   geometry       119 non-null    geometry\n",
      " 1   leisure        119 non-null    object  \n",
      " 2   name           78 non-null     object  \n",
      " 3   wikidata       43 non-null     object  \n",
      " 4   wikipedia      26 non-null     object  \n",
      " 5   opening_hours  9 non-null      object  \n",
      " 6   garden:type    31 non-null     object  \n",
      " 7   website        30 non-null     object  \n",
      " 8   tourism        24 non-null     object  \n",
      " 9   access         21 non-null     object  \n",
      " 10  source         17 non-null     object  \n",
      " 11  email          10 non-null     object  \n",
      " 12  fee            18 non-null     object  \n",
      " 13  operator       23 non-null     object  \n",
      " 14  operator:type  8 non-null      object  \n",
      " 15  addr:city      13 non-null     object  \n",
      " 16  addr:postcode  14 non-null     object  \n",
      " 17  phone          13 non-null     object  \n",
      " 18  wheelchair     10 non-null     object  \n",
      " 19  landuse        13 non-null     object  \n",
      " 20  type           29 non-null     object  \n",
      "dtypes: geometry(1), object(20)\n",
      "memory usage: 20.5+ KB\n"
     ]
    }
   ],
   "source": [
    "gardens_100 = gardens[gardens.geometry.area > 100_000]\n",
    "gardens_100 = gardens_100[~gardens_100[\"access\"].isin([\"private\", \"no\"])]\n",
    "threshold = 0.95  # 90% NaNs\n",
    "gardens_100 = gardens_100.loc[:, gardens_100.isna().mean() < threshold]\n",
    "# gardens_100.info()"
   ]
  },
  {
   "cell_type": "code",
   "execution_count": 103,
   "metadata": {},
   "outputs": [],
   "source": [
    "# fig, ax = plt.subplots(figsize=(20, 20))\n",
    "\n",
    "# gardens_100.plot(ax=ax, cmap='tab20', alpha=0.6)\n",
    "\n",
    "# plt.title(\"Combined Features by Group\")\n",
    "# plt.legend()\n",
    "# plt.axis('off')\n",
    "# plt.show()"
   ]
  },
  {
   "cell_type": "code",
   "execution_count": 105,
   "metadata": {},
   "outputs": [],
   "source": [
    "gardens_100.to_file(\"natural_assets_data_raw/gardens_over10ha.gpkg\", layer='gardens', driver=\"GPKG\")"
   ]
  },
  {
   "cell_type": "markdown",
   "metadata": {},
   "source": [
    "## Loading beaches"
   ]
  },
  {
   "cell_type": "markdown",
   "metadata": {},
   "source": [
    "see also: https://www.data.gov.uk/dataset/748b475b-e534-4298-90bf-cca7b244a374/beaches-ccgbc/datafile/ce627212-5fa4-41a7-abf5-747579ca0d15/preview\n",
    "https://data-housinggovie.opendata.arcgis.com/datasets/housinggovie::blue-flag-beaches/explore?location=52.337208%2C-5.298342%2C6.58\n",
    "https://www.keepbritaintidy.org/2024-blue-flag-and-seaside-award-winners"
   ]
  },
  {
   "cell_type": "code",
   "execution_count": 3,
   "metadata": {},
   "outputs": [
    {
     "name": "stderr",
     "output_type": "stream",
     "text": [
      "/opt/conda/lib/python3.11/site-packages/osmnx/_overpass.py:267: UserWarning: This area is 330 times your configured Overpass max query area size. It will automatically be divided up into multiple sub-queries accordingly. This may take a long time.\n",
      "  multi_poly_proj = utils_geo._consolidate_subdivide_geometry(poly_proj)\n"
     ]
    }
   ],
   "source": [
    "beaches = ox.features_from_place(\"United Kingdom\", tags = {\"natural\": \"beach\"})\n",
    "beaches = beaches.to_crs(epsg=27700)\n",
    "beaches = beaches[beaches.geometry.geom_type.isin(['Polygon', 'MultiPolygon'])]\n",
    "beaches = beaches[~beaches.geometry.duplicated()].reset_index(drop=True)"
   ]
  },
  {
   "cell_type": "code",
   "execution_count": 41,
   "metadata": {},
   "outputs": [],
   "source": [
    "beaches_100 = beaches[beaches.geometry.area > 100_000]\n",
    "beaches_100 = beaches_100[~beaches_100[\"access\"].isin([\"private\", \"no\"])]\n",
    "threshold = 0.98  # 90% NaNs\n",
    "beaches_100 = beaches_100.loc[:, beaches_100.isna().mean() < threshold]"
   ]
  },
  {
   "cell_type": "code",
   "execution_count": 7,
   "metadata": {},
   "outputs": [
    {
     "name": "stdout",
     "output_type": "stream",
     "text": [
      "<class 'geopandas.geodataframe.GeoDataFrame'>\n",
      "Index: 760 entries, 0 to 6256\n",
      "Data columns (total 14 columns):\n",
      " #   Column      Non-Null Count  Dtype   \n",
      "---  ------      --------------  -----   \n",
      " 0   geometry    760 non-null    geometry\n",
      " 1   name        338 non-null    object  \n",
      " 2   natural     760 non-null    object  \n",
      " 3   surface     485 non-null    object  \n",
      " 4   lifeguard   34 non-null     object  \n",
      " 5   supervised  33 non-null     object  \n",
      " 6   name:en     20 non-null     object  \n",
      " 7   source      172 non-null    object  \n",
      " 8   name:cy     21 non-null     object  \n",
      " 9   wikidata    51 non-null     object  \n",
      " 10  access      49 non-null     object  \n",
      " 11  wikipedia   21 non-null     object  \n",
      " 12  tidal       143 non-null    object  \n",
      " 13  type        145 non-null    object  \n",
      "dtypes: geometry(1), object(13)\n",
      "memory usage: 89.1+ KB\n"
     ]
    }
   ],
   "source": [
    "beaches_100.info()"
   ]
  },
  {
   "cell_type": "code",
   "execution_count": 8,
   "metadata": {},
   "outputs": [],
   "source": [
    "blue_flag = {\n",
    "    \"name\": [\n",
    "        \"Porthcawl Marina\", \"Rest Bay\", \"Trecco Bay\", \"Cefn Sidan\", \"Aberystwyth South\", \"Borth\",\n",
    "        \"Llangrannog\", \"Tresaith\", \"Prestatyn Central\", \"Broadhaven Central\", \"Coppet Hall\", \"Dale\",\n",
    "        \"Newgale\", \"Poppit Sands\", \"Saundersfoot\", \"Tenby Castle Beach\", \"Tenby South\", \"Whitesands\",\n",
    "        \"Tenby North\", \"Caswell Bay\", \"Langland Bay\", \"Port Eynon Bay\", \"Swansea Marina\", \"Penarth Marina\",\n",
    "        \"Central Beach, Mablethorpe\", \"Central Beach, Skegness\", \"Central Beach, Sutton on Sea\",\n",
    "        \"Three Shells Beach\", \"Westcliff Bay\", \"East Beach, Shoeburyness\", \"Shoebury Common\", \"Cromer\",\n",
    "        \"Sheringham\", \"West Runton\", \"East Runton\", \"Frinton on Sea\", \"Brightlingsea\", \"Dovercourt Bay\",\n",
    "        \"Felixstowe\", \"Southwold\", \"Whitley Bay South\", \"Tynemouth Longsands South\", \"King Edwards Bay\",\n",
    "        \"Seaburn Beach\", \"Roker Beach\", \"Whitby\", \"Hornsea\", \"Withernsea\", \"Hayling Island Beachlands Central\",\n",
    "        \"Saltdean Beach\", \"Hove Lawns\", \"Tankerton\", \"Sheerness\", \"St Mildred's Bay\", \"Minnis Bay\",\n",
    "        \"Joss Bay\", \"West Wittering Beach\", \"Botany Bay\", \"Blackpool Sands\", \"Shore Road (Poole)\",\n",
    "        \"Sandbanks Peninsula\", \"Avon Beach\", \"Highcliffe Beach\", \"Friars Cliff Beach\", \"Canford Cliffs\",\n",
    "        \"Branksome Chine\", \"Alum Chine\", \"Manor Steps\", \"Durley Chine\", \"Fisherman's Walk\", \"Southbourne\",\n",
    "        \"Carbis Bay\", \"Crooklets\", \"Gyllyngvase\", \"Porthmeor\", \"Polzeath\", \"Porthtowan\", \"Trevone Bay\",\n",
    "        \"Widemouth Bay\", \"Summerleaze\", \"Beer\", \"Exmouth\", \"Seaton\", \"Sidmouth Town\", \"Swanage Central\",\n",
    "        \"Dawlish Warren\", \"Breakwater Beach\", \"Broadsands\", \"Meadfoot Beach\", \"Preston Sands\", \"Oddicombe\",\n",
    "        \"Torre Abbey Sands\", \"Westward Ho!\", \"Weymouth Central\", \"Croyde Bay\",\n",
    "        \"Royal Albert Dock and Salthouse Dock Marina\", \"Rutland Water\"\n",
    "    ],\n",
    "    \"location\": [\n",
    "        \"51.4797, -3.7047\", \"51.4879, -3.7086\", \"51.4761, -3.6936\", \"51.6860, -4.3511\", \"52.4083, -4.0855\",\n",
    "        \"52.4872, -4.0506\", \"52.1460, -4.4705\", \"52.1325, -4.5043\", \"53.3314, -3.4131\", \"51.7742, -5.0997\",\n",
    "        \"51.7131, -4.7032\", \"51.7075, -5.1695\", \"51.8478, -5.1273\", \"52.0825, -4.6997\", \"51.7100, -4.6997\",\n",
    "        \"51.6725, -4.6997\", \"51.6667, -4.6997\", \"51.8936, -5.3033\", \"51.6750, -4.6997\", \"51.5714, -4.0333\",\n",
    "        \"51.5714, -4.0167\", \"51.5461, -4.1764\", \"51.6150, -3.9392\", \"51.4400, -3.1694\", \"53.3400, 0.2600\",\n",
    "        \"53.1430, 0.3360\", \"53.3200, 0.2700\", \"51.5380, 0.7130\", \"51.5370, 0.7050\", \"51.5500, 0.7900\",\n",
    "        \"51.5450, 0.7550\", \"52.9310, 1.3010\", \"52.9440, 1.2100\", \"52.9350, 1.2410\", \"52.9370, 1.2590\",\n",
    "        \"51.8310, 1.2450\", \"51.8120, 1.0220\", \"51.9330, 1.2800\", \"51.9630, 1.3510\", \"52.3270, 1.6800\",\n",
    "        \"55.0400, -1.4400\", \"55.0200, -1.4300\", \"55.0200, -1.4200\", \"54.9300, -1.3700\", \"54.9300, -1.3700\",\n",
    "        \"54.4870, -0.6140\", \"53.9100, -0.1700\", \"53.7300, -0.0300\", \"50.7900, -0.9800\", \"50.8000, -0.0500\",\n",
    "        \"50.8200, -0.1700\", \"51.3600, 1.0500\", \"51.4400, 0.7600\", \"51.3800, 1.3300\", \"51.3700, 1.3100\",\n",
    "        \"51.3700, 1.4300\", \"50.7800, -0.9000\", \"51.3800, 1.4300\", \"50.3000, -3.6200\", \"50.7100, -1.9500\",\n",
    "        \"50.6900, -1.9400\", \"50.7300, -1.7400\", \"50.7400, -1.7100\", \"50.7300, -1.7500\", \"50.7100, -1.9200\",\n",
    "        \"50.7100, -1.9300\", \"50.7100, -1.9200\", \"50.7100, -1.8600\", \"50.7100, -1.8800\", \"50.7100, -1.8500\",\n",
    "        \"50.7200, -1.8200\", \"50.2000, -5.4700\", \"50.8300, -4.5500\", \"50.1470, -5.0700\", \"50.2120, -5.5290\",\n",
    "        \"50.5740, -4.9160\", \"50.2790, -5.2420\", \"50.5510, -4.9720\", \"50.7900, -4.5500\", \"50.8300, -4.5500\",\n",
    "        \"50.6980, -3.0940\", \"50.6180, -3.4040\", \"50.7040, -3.0700\", \"50.6780, -3.2380\", \"50.6080, -1.9570\",\n",
    "        \"50.5980, -3.4360\", \"50.3920, -3.5100\", \"50.4080, -3.5490\", \"50.4560, -3.5140\", \"50.4410, -3.5590\",\n",
    "        \"50.4750, -3.5250\", \"50.4610, -3.5370\", \"51.0420, -4.2370\", \"50.6060, -2.4560\", \"51.1270, -4.2390\",\n",
    "        \"53.4000, -2.9900\", \"52.6500, -0.6300\"\n",
    "    ]\n",
    "}"
   ]
  },
  {
   "cell_type": "code",
   "execution_count": 22,
   "metadata": {},
   "outputs": [],
   "source": [
    "# Split lat-lon strings into float coordinates\n",
    "latitudes = [float(loc.split(\",\")[0].strip()) for loc in blue_flag[\"location\"]]\n",
    "longitudes = [float(loc.split(\",\")[1].strip()) for loc in blue_flag[\"location\"]]\n",
    "\n",
    "# Create geometry (Points from lon, lat)\n",
    "geometry = [Point(lon, lat) for lon, lat in zip(longitudes, latitudes)]\n",
    "blue_flag = gpd.GeoDataFrame({\"name\": blue_flag[\"name\"]}, geometry=geometry, crs=\"EPSG:4326\")"
   ]
  },
  {
   "cell_type": "code",
   "execution_count": 23,
   "metadata": {},
   "outputs": [
    {
     "data": {
      "text/html": [
       "<div>\n",
       "<style scoped>\n",
       "    .dataframe tbody tr th:only-of-type {\n",
       "        vertical-align: middle;\n",
       "    }\n",
       "\n",
       "    .dataframe tbody tr th {\n",
       "        vertical-align: top;\n",
       "    }\n",
       "\n",
       "    .dataframe thead th {\n",
       "        text-align: right;\n",
       "    }\n",
       "</style>\n",
       "<table border=\"1\" class=\"dataframe\">\n",
       "  <thead>\n",
       "    <tr style=\"text-align: right;\">\n",
       "      <th></th>\n",
       "      <th>name</th>\n",
       "      <th>geometry</th>\n",
       "    </tr>\n",
       "  </thead>\n",
       "  <tbody>\n",
       "    <tr>\n",
       "      <th>0</th>\n",
       "      <td>Porthcawl Marina</td>\n",
       "      <td>POINT (-3.7047 51.4797)</td>\n",
       "    </tr>\n",
       "    <tr>\n",
       "      <th>1</th>\n",
       "      <td>Rest Bay</td>\n",
       "      <td>POINT (-3.7086 51.4879)</td>\n",
       "    </tr>\n",
       "    <tr>\n",
       "      <th>2</th>\n",
       "      <td>Trecco Bay</td>\n",
       "      <td>POINT (-3.6936 51.4761)</td>\n",
       "    </tr>\n",
       "    <tr>\n",
       "      <th>3</th>\n",
       "      <td>Cefn Sidan</td>\n",
       "      <td>POINT (-4.3511 51.686)</td>\n",
       "    </tr>\n",
       "    <tr>\n",
       "      <th>4</th>\n",
       "      <td>Aberystwyth South</td>\n",
       "      <td>POINT (-4.0855 52.4083)</td>\n",
       "    </tr>\n",
       "    <tr>\n",
       "      <th>...</th>\n",
       "      <td>...</td>\n",
       "      <td>...</td>\n",
       "    </tr>\n",
       "    <tr>\n",
       "      <th>92</th>\n",
       "      <td>Westward Ho!</td>\n",
       "      <td>POINT (-4.237 51.042)</td>\n",
       "    </tr>\n",
       "    <tr>\n",
       "      <th>93</th>\n",
       "      <td>Weymouth Central</td>\n",
       "      <td>POINT (-2.456 50.606)</td>\n",
       "    </tr>\n",
       "    <tr>\n",
       "      <th>94</th>\n",
       "      <td>Croyde Bay</td>\n",
       "      <td>POINT (-4.239 51.127)</td>\n",
       "    </tr>\n",
       "    <tr>\n",
       "      <th>95</th>\n",
       "      <td>Royal Albert Dock and Salthouse Dock Marina</td>\n",
       "      <td>POINT (-2.99 53.4)</td>\n",
       "    </tr>\n",
       "    <tr>\n",
       "      <th>96</th>\n",
       "      <td>Rutland Water</td>\n",
       "      <td>POINT (-0.63 52.65)</td>\n",
       "    </tr>\n",
       "  </tbody>\n",
       "</table>\n",
       "<p>97 rows × 2 columns</p>\n",
       "</div>"
      ],
      "text/plain": [
       "                                           name                 geometry\n",
       "0                              Porthcawl Marina  POINT (-3.7047 51.4797)\n",
       "1                                      Rest Bay  POINT (-3.7086 51.4879)\n",
       "2                                    Trecco Bay  POINT (-3.6936 51.4761)\n",
       "3                                    Cefn Sidan   POINT (-4.3511 51.686)\n",
       "4                             Aberystwyth South  POINT (-4.0855 52.4083)\n",
       "..                                          ...                      ...\n",
       "92                                 Westward Ho!    POINT (-4.237 51.042)\n",
       "93                             Weymouth Central    POINT (-2.456 50.606)\n",
       "94                                   Croyde Bay    POINT (-4.239 51.127)\n",
       "95  Royal Albert Dock and Salthouse Dock Marina       POINT (-2.99 53.4)\n",
       "96                                Rutland Water      POINT (-0.63 52.65)\n",
       "\n",
       "[97 rows x 2 columns]"
      ]
     },
     "execution_count": 23,
     "metadata": {},
     "output_type": "execute_result"
    }
   ],
   "source": [
    "blue_flag"
   ]
  },
  {
   "cell_type": "code",
   "execution_count": 9,
   "metadata": {},
   "outputs": [],
   "source": [
    "green_coast = {\n",
    "    \"name\": [\n",
    "        \"Abereiddy\", \"Bracelet Bay\", \"Caerfai Bay\", \"Cilborth\", \"Druidston Haven\", \"Freshwater East\",\n",
    "        \"Llanrhystud\", \"Manorbier\", \"Mwnt\", \"Penally\", \"Penbryn\", \"Silver Bay\", \"West Angle Bay\",\n",
    "        \"Arklow South\", \"Ballyhiernan Bay\", \"Ballymoney\", \"Cahore South\", \"Donabate\", \"Dooey Beach\",\n",
    "        \"Falcarragh Beach\", \"Garnish Beach\", \"Portmarnock\", \"Red Strand\", \"Renvyle\", \"Seapoint\",\n",
    "        \"Silver Strand\", \"Thallabawn\", \"The Burrow\", \"Tyrella Beach (Clough)\", \"Abereiddy Bay\",\n",
    "        \"Manorbier Bay\"\n",
    "    ],\n",
    "    \"location\": [\n",
    "        \"51.935016, -5.2026574\",  # Abereiddy\n",
    "        \"51.565189, -3.978006\",   # Bracelet Bay\n",
    "        \"51.868997, -5.252989\",   # Caerfai Bay\n",
    "        \"52.16191, -4.47051\",     # Cilborth\n",
    "        \"51.7725, -5.0981\",       # Druidston Haven\n",
    "        \"51.649382, -4.865176\",   # Freshwater East\n",
    "        \"52.3059, -4.1457\",       # Llanrhystud\n",
    "        \"51.6399, -4.7922\",       # Manorbier\n",
    "        \"52.13584, -4.64092\",     # Mwnt\n",
    "        \"51.6553, -4.7226\",       # Penally\n",
    "        \"52.13988, -4.49436\",     # Penbryn\n",
    "        \"53.3039, -4.5833\",       # Silver Bay (approximate)\n",
    "        \"51.6882, -5.1107\",       # West Angle Bay\n",
    "        \"52.788502, -6.142623\",   # Arklow South\n",
    "        \"55.2000, -7.6170\",       # Ballyhiernan Bay (approximate)\n",
    "        \"52.6556, -6.2361\",       # Ballymoney (approximate)\n",
    "        \"52.5417, -6.2333\",       # Cahore South (approximate)\n",
    "        \"53.4833, -6.1500\",       # Donabate (approximate)\n",
    "        \"55.0167, -8.3167\",       # Dooey Beach (approximate)\n",
    "        \"55.1833, -8.1000\",       # Falcarragh Beach (approximate)\n",
    "        \"51.5333, -9.4667\",       # Garnish Beach (approximate)\n",
    "        \"53.4333, -6.1375\",       # Portmarnock (approximate)\n",
    "        \"51.5667, -8.9333\",       # Red Strand (approximate)\n",
    "        \"53.5667, -10.0167\",      # Renvyle (approximate)\n",
    "        \"53.2933, -6.1333\",       # Seapoint (approximate)\n",
    "        \"53.2667, -9.0833\",       # Silver Strand (approximate)\n",
    "        \"53.6333, -9.8167\",       # Thallabawn (approximate)\n",
    "        \"53.3000, -6.2000\",       # The Burrow (approximate)\n",
    "        \"54.3167, -5.7167\",       # Tyrella Beach (Clough) (approximate)\n",
    "        \"51.935016, -5.2026574\",  # Abereiddy Bay (same as Abereiddy)\n",
    "        \"51.6399, -4.7922\"        # Manorbier Bay (same as Manorbier)\n",
    "    ]\n",
    "}"
   ]
  },
  {
   "cell_type": "code",
   "execution_count": 20,
   "metadata": {},
   "outputs": [],
   "source": [
    "# Split lat-lon strings into float coordinates\n",
    "latitudes = [float(loc.split(\",\")[0].strip()) for loc in green_coast[\"location\"]]\n",
    "longitudes = [float(loc.split(\",\")[1].strip()) for loc in green_coast[\"location\"]]\n",
    "\n",
    "# Create geometry (Points from lon, lat)\n",
    "geometry = [Point(lon, lat) for lon, lat in zip(longitudes, latitudes)]\n",
    "green_coast = gpd.GeoDataFrame({\"name\": green_coast[\"name\"]}, geometry=geometry, crs=\"EPSG:4326\")"
   ]
  },
  {
   "cell_type": "code",
   "execution_count": 21,
   "metadata": {},
   "outputs": [
    {
     "data": {
      "text/html": [
       "<div>\n",
       "<style scoped>\n",
       "    .dataframe tbody tr th:only-of-type {\n",
       "        vertical-align: middle;\n",
       "    }\n",
       "\n",
       "    .dataframe tbody tr th {\n",
       "        vertical-align: top;\n",
       "    }\n",
       "\n",
       "    .dataframe thead th {\n",
       "        text-align: right;\n",
       "    }\n",
       "</style>\n",
       "<table border=\"1\" class=\"dataframe\">\n",
       "  <thead>\n",
       "    <tr style=\"text-align: right;\">\n",
       "      <th></th>\n",
       "      <th>name</th>\n",
       "      <th>geometry</th>\n",
       "    </tr>\n",
       "  </thead>\n",
       "  <tbody>\n",
       "    <tr>\n",
       "      <th>0</th>\n",
       "      <td>Abereiddy</td>\n",
       "      <td>POINT (-5.20266 51.93502)</td>\n",
       "    </tr>\n",
       "    <tr>\n",
       "      <th>1</th>\n",
       "      <td>Bracelet Bay</td>\n",
       "      <td>POINT (-3.97801 51.56519)</td>\n",
       "    </tr>\n",
       "    <tr>\n",
       "      <th>2</th>\n",
       "      <td>Caerfai Bay</td>\n",
       "      <td>POINT (-5.25299 51.869)</td>\n",
       "    </tr>\n",
       "    <tr>\n",
       "      <th>3</th>\n",
       "      <td>Cilborth</td>\n",
       "      <td>POINT (-4.47051 52.16191)</td>\n",
       "    </tr>\n",
       "    <tr>\n",
       "      <th>4</th>\n",
       "      <td>Druidston Haven</td>\n",
       "      <td>POINT (-5.0981 51.7725)</td>\n",
       "    </tr>\n",
       "    <tr>\n",
       "      <th>5</th>\n",
       "      <td>Freshwater East</td>\n",
       "      <td>POINT (-4.86518 51.64938)</td>\n",
       "    </tr>\n",
       "    <tr>\n",
       "      <th>6</th>\n",
       "      <td>Llanrhystud</td>\n",
       "      <td>POINT (-4.1457 52.3059)</td>\n",
       "    </tr>\n",
       "    <tr>\n",
       "      <th>7</th>\n",
       "      <td>Manorbier</td>\n",
       "      <td>POINT (-4.7922 51.6399)</td>\n",
       "    </tr>\n",
       "    <tr>\n",
       "      <th>8</th>\n",
       "      <td>Mwnt</td>\n",
       "      <td>POINT (-4.64092 52.13584)</td>\n",
       "    </tr>\n",
       "    <tr>\n",
       "      <th>9</th>\n",
       "      <td>Penally</td>\n",
       "      <td>POINT (-4.7226 51.6553)</td>\n",
       "    </tr>\n",
       "    <tr>\n",
       "      <th>10</th>\n",
       "      <td>Penbryn</td>\n",
       "      <td>POINT (-4.49436 52.13988)</td>\n",
       "    </tr>\n",
       "    <tr>\n",
       "      <th>11</th>\n",
       "      <td>Silver Bay</td>\n",
       "      <td>POINT (-4.5833 53.3039)</td>\n",
       "    </tr>\n",
       "    <tr>\n",
       "      <th>12</th>\n",
       "      <td>West Angle Bay</td>\n",
       "      <td>POINT (-5.1107 51.6882)</td>\n",
       "    </tr>\n",
       "    <tr>\n",
       "      <th>13</th>\n",
       "      <td>Arklow South</td>\n",
       "      <td>POINT (-6.14262 52.7885)</td>\n",
       "    </tr>\n",
       "    <tr>\n",
       "      <th>14</th>\n",
       "      <td>Ballyhiernan Bay</td>\n",
       "      <td>POINT (-7.617 55.2)</td>\n",
       "    </tr>\n",
       "    <tr>\n",
       "      <th>15</th>\n",
       "      <td>Ballymoney</td>\n",
       "      <td>POINT (-6.2361 52.6556)</td>\n",
       "    </tr>\n",
       "    <tr>\n",
       "      <th>16</th>\n",
       "      <td>Cahore South</td>\n",
       "      <td>POINT (-6.2333 52.5417)</td>\n",
       "    </tr>\n",
       "    <tr>\n",
       "      <th>17</th>\n",
       "      <td>Donabate</td>\n",
       "      <td>POINT (-6.15 53.4833)</td>\n",
       "    </tr>\n",
       "    <tr>\n",
       "      <th>18</th>\n",
       "      <td>Dooey Beach</td>\n",
       "      <td>POINT (-8.3167 55.0167)</td>\n",
       "    </tr>\n",
       "    <tr>\n",
       "      <th>19</th>\n",
       "      <td>Falcarragh Beach</td>\n",
       "      <td>POINT (-8.1 55.1833)</td>\n",
       "    </tr>\n",
       "    <tr>\n",
       "      <th>20</th>\n",
       "      <td>Garnish Beach</td>\n",
       "      <td>POINT (-9.4667 51.5333)</td>\n",
       "    </tr>\n",
       "    <tr>\n",
       "      <th>21</th>\n",
       "      <td>Portmarnock</td>\n",
       "      <td>POINT (-6.1375 53.4333)</td>\n",
       "    </tr>\n",
       "    <tr>\n",
       "      <th>22</th>\n",
       "      <td>Red Strand</td>\n",
       "      <td>POINT (-8.9333 51.5667)</td>\n",
       "    </tr>\n",
       "    <tr>\n",
       "      <th>23</th>\n",
       "      <td>Renvyle</td>\n",
       "      <td>POINT (-10.0167 53.5667)</td>\n",
       "    </tr>\n",
       "    <tr>\n",
       "      <th>24</th>\n",
       "      <td>Seapoint</td>\n",
       "      <td>POINT (-6.1333 53.2933)</td>\n",
       "    </tr>\n",
       "    <tr>\n",
       "      <th>25</th>\n",
       "      <td>Silver Strand</td>\n",
       "      <td>POINT (-9.0833 53.2667)</td>\n",
       "    </tr>\n",
       "    <tr>\n",
       "      <th>26</th>\n",
       "      <td>Thallabawn</td>\n",
       "      <td>POINT (-9.8167 53.6333)</td>\n",
       "    </tr>\n",
       "    <tr>\n",
       "      <th>27</th>\n",
       "      <td>The Burrow</td>\n",
       "      <td>POINT (-6.2 53.3)</td>\n",
       "    </tr>\n",
       "    <tr>\n",
       "      <th>28</th>\n",
       "      <td>Tyrella Beach (Clough)</td>\n",
       "      <td>POINT (-5.7167 54.3167)</td>\n",
       "    </tr>\n",
       "    <tr>\n",
       "      <th>29</th>\n",
       "      <td>Abereiddy Bay</td>\n",
       "      <td>POINT (-5.20266 51.93502)</td>\n",
       "    </tr>\n",
       "    <tr>\n",
       "      <th>30</th>\n",
       "      <td>Manorbier Bay</td>\n",
       "      <td>POINT (-4.7922 51.6399)</td>\n",
       "    </tr>\n",
       "  </tbody>\n",
       "</table>\n",
       "</div>"
      ],
      "text/plain": [
       "                      name                   geometry\n",
       "0                Abereiddy  POINT (-5.20266 51.93502)\n",
       "1             Bracelet Bay  POINT (-3.97801 51.56519)\n",
       "2              Caerfai Bay    POINT (-5.25299 51.869)\n",
       "3                 Cilborth  POINT (-4.47051 52.16191)\n",
       "4          Druidston Haven    POINT (-5.0981 51.7725)\n",
       "5          Freshwater East  POINT (-4.86518 51.64938)\n",
       "6              Llanrhystud    POINT (-4.1457 52.3059)\n",
       "7                Manorbier    POINT (-4.7922 51.6399)\n",
       "8                     Mwnt  POINT (-4.64092 52.13584)\n",
       "9                  Penally    POINT (-4.7226 51.6553)\n",
       "10                 Penbryn  POINT (-4.49436 52.13988)\n",
       "11              Silver Bay    POINT (-4.5833 53.3039)\n",
       "12          West Angle Bay    POINT (-5.1107 51.6882)\n",
       "13            Arklow South   POINT (-6.14262 52.7885)\n",
       "14        Ballyhiernan Bay        POINT (-7.617 55.2)\n",
       "15              Ballymoney    POINT (-6.2361 52.6556)\n",
       "16            Cahore South    POINT (-6.2333 52.5417)\n",
       "17                Donabate      POINT (-6.15 53.4833)\n",
       "18             Dooey Beach    POINT (-8.3167 55.0167)\n",
       "19        Falcarragh Beach       POINT (-8.1 55.1833)\n",
       "20           Garnish Beach    POINT (-9.4667 51.5333)\n",
       "21             Portmarnock    POINT (-6.1375 53.4333)\n",
       "22              Red Strand    POINT (-8.9333 51.5667)\n",
       "23                 Renvyle   POINT (-10.0167 53.5667)\n",
       "24                Seapoint    POINT (-6.1333 53.2933)\n",
       "25           Silver Strand    POINT (-9.0833 53.2667)\n",
       "26              Thallabawn    POINT (-9.8167 53.6333)\n",
       "27              The Burrow          POINT (-6.2 53.3)\n",
       "28  Tyrella Beach (Clough)    POINT (-5.7167 54.3167)\n",
       "29           Abereiddy Bay  POINT (-5.20266 51.93502)\n",
       "30           Manorbier Bay    POINT (-4.7922 51.6399)"
      ]
     },
     "execution_count": 21,
     "metadata": {},
     "output_type": "execute_result"
    }
   ],
   "source": [
    "green_coast"
   ]
  },
  {
   "cell_type": "code",
   "execution_count": 11,
   "metadata": {},
   "outputs": [],
   "source": [
    "seaside_award = {\n",
    "    \"name\": [\n",
    "        \"Aberavon\", \"Aberystwyth North\", \"Clarach\", \"Cold Knap\", \"Jackson's Bay\", \"New Quay Harbour\",\n",
    "        \"Rhyl Central\", \"Traeth y Dolau\", \"Whitmore Bay\", \"Llantwit Major\", \"Penarth\", \"Aberporth\",\n",
    "        \"New Quay Traeth Gwyn\", \"Aberdeen Ballroom Beach\", \"Balmedie Beach\", \"Collieston\", \"Cruden Bay\",\n",
    "        \"Fraserburgh Tigerhill\", \"Fraserburgh Waters of Philorth\", \"Inverboyndie Beach\", \"Peterhead Lido\",\n",
    "        \"Stonehaven Beach\", \"Montrose Seafront\", \"Carnoustie\", \"Arbroath\", \"Lunan Bay\", \"Monifieth\",\n",
    "        \"East Haven\", \"Broughty Ferry\", \"Belhaven Bay\", \"Dunbar East\", \"Longniddry Bents, Gosford\",\n",
    "        \"Yellowcraig\", \"North Berwick Milsey Bay\", \"North Berwick West Beach\", \"Longniddry Bents\",\n",
    "        \"Gullane Bents\", \"Aberdour Silver Sands\", \"Anstruther Billowness\", \"Burntisland Beach\",\n",
    "        \"Crail Roome Bay\", \"Elie Harbour\", \"Elie Ruby Bay\", \"Kingsbarns Beach\", \"Kirkcaldy Seafield\",\n",
    "        \"Leven East\", \"St Andrews East Sands\", \"St Andrews West Sands\", \"Aberdour Black Sands\",\n",
    "        \"Kirkcaldy Pathhead Sands\", \"Kinghorn and Pettycur Bay\", \"Brora Beach\", \"Dornoch Beach\",\n",
    "        \"Sango Sands\", \"Nairn Central\", \"Loch Morlich\", \"Irvine\", \"Coldingham\", \"West Sandwick\",\n",
    "        \"Sands of Breckon\", \"Ayr South\", \"Troon\", \"Maidens\", \"Prestwick\", \"Girvan\", \"Barassie Shore\"\n",
    "    ],\n",
    "    \"location\": [\n",
    "        \"51.5931, -3.7897\", \"52.4194, -4.0829\", \"52.4443, -4.0774\", \"51.3906, -3.2892\", \"51.3931, -3.2728\",\n",
    "        \"52.2150, -4.3560\", \"53.3200, -3.4910\", \"52.2130, -4.3540\", \"51.3894, -3.2694\", \"51.4040, -3.4930\",\n",
    "        \"51.4340, -3.1730\", \"52.1390, -4.5430\", \"52.2140, -4.3510\", \"57.1497, -2.0930\", \"57.2510, -2.0160\",\n",
    "        \"57.3500, -2.0830\", \"57.4180, -1.8490\", \"57.6920, -2.0030\", \"57.6900, -1.9800\", \"57.6670, -2.5090\",\n",
    "        \"57.5050, -1.7890\", \"56.9630, -2.2080\", \"56.7080, -2.4680\", \"56.5010, -2.7070\", \"56.5590, -2.5820\",\n",
    "        \"56.6330, -2.5560\", \"56.4820, -2.7780\", \"56.5100, -2.7240\", \"56.4670, -2.8800\", \"56.0010, -2.5270\",\n",
    "        \"56.0030, -2.5100\", \"56.0050, -2.8750\", \"56.0580, -2.8280\", \"56.0580, -2.7140\", \"56.0580, -2.7220\",\n",
    "        \"56.0050, -2.8750\", \"56.0370, -2.8270\", \"56.0580, -3.2820\", \"56.2240, -2.7020\", \"56.0580, -3.2360\",\n",
    "        \"56.2570, -2.6260\", \"56.1900, -2.8300\", \"56.1880, -2.8310\", \"56.2730, -2.6300\", \"56.1070, -3.1660\",\n",
    "        \"56.2000, -3.0000\", \"56.3380, -2.7830\", \"56.3430, -2.8140\", \"56.0580, -3.2830\", \"56.1200, -3.1500\",\n",
    "        \"56.0700, -3.1700\", \"58.0090, -3.8530\", \"57.8800, -4.0300\", \"58.5050, -4.4170\", \"57.5880, -3.8750\",\n",
    "        \"57.1670, -3.6740\", \"55.6119, -4.6693\", \"55.8840, -2.1390\", \"60.5130, -1.4560\", \"60.5550, -1.0330\",\n",
    "        \"55.4500, -4.6230\", \"55.5430, -4.6600\", \"55.3650, -4.8370\", \"55.5000, -4.6160\", \"55.2400, -4.8530\",\n",
    "        \"55.5410, -4.6470\"\n",
    "    ]\n",
    "}"
   ]
  },
  {
   "cell_type": "code",
   "execution_count": 18,
   "metadata": {},
   "outputs": [],
   "source": [
    "# Split lat-lon strings into float coordinates\n",
    "latitudes = [float(loc.split(\",\")[0].strip()) for loc in seaside_award[\"location\"]]\n",
    "longitudes = [float(loc.split(\",\")[1].strip()) for loc in seaside_award[\"location\"]]\n",
    "\n",
    "# Create geometry (Points from lon, lat)\n",
    "geometry = [Point(lon, lat) for lon, lat in zip(longitudes, latitudes)]\n",
    "seaside_award = gpd.GeoDataFrame({\"name\": seaside_award[\"name\"]}, geometry=geometry, crs=\"EPSG:4326\")"
   ]
  },
  {
   "cell_type": "code",
   "execution_count": 19,
   "metadata": {},
   "outputs": [
    {
     "data": {
      "text/html": [
       "<div>\n",
       "<style scoped>\n",
       "    .dataframe tbody tr th:only-of-type {\n",
       "        vertical-align: middle;\n",
       "    }\n",
       "\n",
       "    .dataframe tbody tr th {\n",
       "        vertical-align: top;\n",
       "    }\n",
       "\n",
       "    .dataframe thead th {\n",
       "        text-align: right;\n",
       "    }\n",
       "</style>\n",
       "<table border=\"1\" class=\"dataframe\">\n",
       "  <thead>\n",
       "    <tr style=\"text-align: right;\">\n",
       "      <th></th>\n",
       "      <th>name</th>\n",
       "      <th>geometry</th>\n",
       "    </tr>\n",
       "  </thead>\n",
       "  <tbody>\n",
       "    <tr>\n",
       "      <th>0</th>\n",
       "      <td>Aberavon</td>\n",
       "      <td>POINT (-3.7897 51.5931)</td>\n",
       "    </tr>\n",
       "    <tr>\n",
       "      <th>1</th>\n",
       "      <td>Aberystwyth North</td>\n",
       "      <td>POINT (-4.0829 52.4194)</td>\n",
       "    </tr>\n",
       "    <tr>\n",
       "      <th>2</th>\n",
       "      <td>Clarach</td>\n",
       "      <td>POINT (-4.0774 52.4443)</td>\n",
       "    </tr>\n",
       "    <tr>\n",
       "      <th>3</th>\n",
       "      <td>Cold Knap</td>\n",
       "      <td>POINT (-3.2892 51.3906)</td>\n",
       "    </tr>\n",
       "    <tr>\n",
       "      <th>4</th>\n",
       "      <td>Jackson's Bay</td>\n",
       "      <td>POINT (-3.2728 51.3931)</td>\n",
       "    </tr>\n",
       "    <tr>\n",
       "      <th>...</th>\n",
       "      <td>...</td>\n",
       "      <td>...</td>\n",
       "    </tr>\n",
       "    <tr>\n",
       "      <th>61</th>\n",
       "      <td>Troon</td>\n",
       "      <td>POINT (-4.66 55.543)</td>\n",
       "    </tr>\n",
       "    <tr>\n",
       "      <th>62</th>\n",
       "      <td>Maidens</td>\n",
       "      <td>POINT (-4.837 55.365)</td>\n",
       "    </tr>\n",
       "    <tr>\n",
       "      <th>63</th>\n",
       "      <td>Prestwick</td>\n",
       "      <td>POINT (-4.616 55.5)</td>\n",
       "    </tr>\n",
       "    <tr>\n",
       "      <th>64</th>\n",
       "      <td>Girvan</td>\n",
       "      <td>POINT (-4.853 55.24)</td>\n",
       "    </tr>\n",
       "    <tr>\n",
       "      <th>65</th>\n",
       "      <td>Barassie Shore</td>\n",
       "      <td>POINT (-4.647 55.541)</td>\n",
       "    </tr>\n",
       "  </tbody>\n",
       "</table>\n",
       "<p>66 rows × 2 columns</p>\n",
       "</div>"
      ],
      "text/plain": [
       "                 name                 geometry\n",
       "0            Aberavon  POINT (-3.7897 51.5931)\n",
       "1   Aberystwyth North  POINT (-4.0829 52.4194)\n",
       "2             Clarach  POINT (-4.0774 52.4443)\n",
       "3           Cold Knap  POINT (-3.2892 51.3906)\n",
       "4       Jackson's Bay  POINT (-3.2728 51.3931)\n",
       "..                ...                      ...\n",
       "61              Troon     POINT (-4.66 55.543)\n",
       "62            Maidens    POINT (-4.837 55.365)\n",
       "63          Prestwick      POINT (-4.616 55.5)\n",
       "64             Girvan     POINT (-4.853 55.24)\n",
       "65     Barassie Shore    POINT (-4.647 55.541)\n",
       "\n",
       "[66 rows x 2 columns]"
      ]
     },
     "execution_count": 19,
     "metadata": {},
     "output_type": "execute_result"
    }
   ],
   "source": [
    "seaside_award"
   ]
  },
  {
   "cell_type": "code",
   "execution_count": 42,
   "metadata": {},
   "outputs": [],
   "source": [
    "# 1. Merge the three GeoDataFrames\n",
    "combined_coast_awards = pd.concat([blue_flag, seaside_award, green_coast], ignore_index=True)\n",
    "\n",
    "# 2. Drop identical points (based on geometry - lat-lon)\n",
    "combined_coast_awards = combined_coast_awards.drop_duplicates(subset='geometry')\n",
    "\n",
    "# 3. Create the new columns for each award type\n",
    "combined_coast_awards['blue_flag'] = combined_coast_awards['name'].isin(blue_flag['name']).astype(\"int\")\n",
    "combined_coast_awards['seaside_award'] = combined_coast_awards['name'].isin(seaside_award['name']).astype(\"int\")\n",
    "combined_coast_awards['green_coast'] = combined_coast_awards['name'].isin(green_coast['name']).astype(\"int\")\n",
    "\n",
    "combined_coast_awards = combined_coast_awards.to_crs(epsg=27700)"
   ]
  },
  {
   "cell_type": "code",
   "execution_count": 43,
   "metadata": {},
   "outputs": [
    {
     "data": {
      "text/html": [
       "<div>\n",
       "<style scoped>\n",
       "    .dataframe tbody tr th:only-of-type {\n",
       "        vertical-align: middle;\n",
       "    }\n",
       "\n",
       "    .dataframe tbody tr th {\n",
       "        vertical-align: top;\n",
       "    }\n",
       "\n",
       "    .dataframe thead th {\n",
       "        text-align: right;\n",
       "    }\n",
       "</style>\n",
       "<table border=\"1\" class=\"dataframe\">\n",
       "  <thead>\n",
       "    <tr style=\"text-align: right;\">\n",
       "      <th></th>\n",
       "      <th>name</th>\n",
       "      <th>geometry</th>\n",
       "      <th>blue_flag</th>\n",
       "      <th>seaside_award</th>\n",
       "      <th>green_coast</th>\n",
       "    </tr>\n",
       "  </thead>\n",
       "  <tbody>\n",
       "    <tr>\n",
       "      <th>0</th>\n",
       "      <td>Porthcawl Marina</td>\n",
       "      <td>POINT (281717.843 177016.376)</td>\n",
       "      <td>1</td>\n",
       "      <td>0</td>\n",
       "      <td>0</td>\n",
       "    </tr>\n",
       "    <tr>\n",
       "      <th>1</th>\n",
       "      <td>Rest Bay</td>\n",
       "      <td>POINT (281468.324 177934.56)</td>\n",
       "      <td>1</td>\n",
       "      <td>0</td>\n",
       "      <td>0</td>\n",
       "    </tr>\n",
       "    <tr>\n",
       "      <th>2</th>\n",
       "      <td>Trecco Bay</td>\n",
       "      <td>POINT (282479.338 176598.156)</td>\n",
       "      <td>1</td>\n",
       "      <td>0</td>\n",
       "      <td>0</td>\n",
       "    </tr>\n",
       "    <tr>\n",
       "      <th>3</th>\n",
       "      <td>Cefn Sidan</td>\n",
       "      <td>POINT (237573.051 201199.154)</td>\n",
       "      <td>1</td>\n",
       "      <td>0</td>\n",
       "      <td>0</td>\n",
       "    </tr>\n",
       "    <tr>\n",
       "      <th>4</th>\n",
       "      <td>Aberystwyth South</td>\n",
       "      <td>POINT (258237.044 280966.584)</td>\n",
       "      <td>1</td>\n",
       "      <td>0</td>\n",
       "      <td>0</td>\n",
       "    </tr>\n",
       "    <tr>\n",
       "      <th>...</th>\n",
       "      <td>...</td>\n",
       "      <td>...</td>\n",
       "      <td>...</td>\n",
       "      <td>...</td>\n",
       "      <td>...</td>\n",
       "    </tr>\n",
       "    <tr>\n",
       "      <th>187</th>\n",
       "      <td>Seapoint</td>\n",
       "      <td>POINT (124653.884 385341.86)</td>\n",
       "      <td>0</td>\n",
       "      <td>0</td>\n",
       "      <td>1</td>\n",
       "    </tr>\n",
       "    <tr>\n",
       "      <th>188</th>\n",
       "      <td>Silver Strand</td>\n",
       "      <td>POINT (-72038.707 397878.3)</td>\n",
       "      <td>0</td>\n",
       "      <td>0</td>\n",
       "      <td>1</td>\n",
       "    </tr>\n",
       "    <tr>\n",
       "      <th>189</th>\n",
       "      <td>Thallabawn</td>\n",
       "      <td>POINT (-116344.573 443660.561)</td>\n",
       "      <td>0</td>\n",
       "      <td>0</td>\n",
       "      <td>1</td>\n",
       "    </tr>\n",
       "    <tr>\n",
       "      <th>190</th>\n",
       "      <td>The Burrow</td>\n",
       "      <td>POINT (120255.086 386346.184)</td>\n",
       "      <td>0</td>\n",
       "      <td>0</td>\n",
       "      <td>1</td>\n",
       "    </tr>\n",
       "    <tr>\n",
       "      <th>191</th>\n",
       "      <td>Tyrella Beach (Clough)</td>\n",
       "      <td>POINT (158368.727 497606.327)</td>\n",
       "      <td>0</td>\n",
       "      <td>0</td>\n",
       "      <td>1</td>\n",
       "    </tr>\n",
       "  </tbody>\n",
       "</table>\n",
       "<p>188 rows × 5 columns</p>\n",
       "</div>"
      ],
      "text/plain": [
       "                       name                        geometry  blue_flag  \\\n",
       "0          Porthcawl Marina   POINT (281717.843 177016.376)          1   \n",
       "1                  Rest Bay    POINT (281468.324 177934.56)          1   \n",
       "2                Trecco Bay   POINT (282479.338 176598.156)          1   \n",
       "3                Cefn Sidan   POINT (237573.051 201199.154)          1   \n",
       "4         Aberystwyth South   POINT (258237.044 280966.584)          1   \n",
       "..                      ...                             ...        ...   \n",
       "187                Seapoint    POINT (124653.884 385341.86)          0   \n",
       "188           Silver Strand     POINT (-72038.707 397878.3)          0   \n",
       "189              Thallabawn  POINT (-116344.573 443660.561)          0   \n",
       "190              The Burrow   POINT (120255.086 386346.184)          0   \n",
       "191  Tyrella Beach (Clough)   POINT (158368.727 497606.327)          0   \n",
       "\n",
       "     seaside_award  green_coast  \n",
       "0                0            0  \n",
       "1                0            0  \n",
       "2                0            0  \n",
       "3                0            0  \n",
       "4                0            0  \n",
       "..             ...          ...  \n",
       "187              0            1  \n",
       "188              0            1  \n",
       "189              0            1  \n",
       "190              0            1  \n",
       "191              0            1  \n",
       "\n",
       "[188 rows x 5 columns]"
      ]
     },
     "execution_count": 43,
     "metadata": {},
     "output_type": "execute_result"
    }
   ],
   "source": [
    "combined_coast_awards"
   ]
  },
  {
   "cell_type": "code",
   "execution_count": 44,
   "metadata": {},
   "outputs": [],
   "source": [
    "combined_coast_awards.to_file(\"natural_assets_data_raw/coast_awards_point.gpkg\", layer='coast_awards', driver=\"GPKG\")"
   ]
  },
  {
   "cell_type": "code",
   "execution_count": 45,
   "metadata": {},
   "outputs": [],
   "source": [
    "# 1. Create a 400m buffer for each point in the combined_coast_awards\n",
    "combined_coast_awards['buffer'] = combined_coast_awards.geometry.buffer(400)\n",
    "\n",
    "# 2. Initialize a new column in beaches_100 to store the sum of award columns\n",
    "beaches_100['coast_award_sum'] = 0  # Default to 0\n",
    "\n",
    "# 3. Loop through each beach polygon in beaches_100 and check for intersections with the buffered points\n",
    "for idx, beach in beaches_100.iterrows():\n",
    "    # Create a mask to identify points within the 400m buffer of the current beach\n",
    "    mask = combined_coast_awards['buffer'].intersects(beach['geometry'])\n",
    "    \n",
    "    # Get the points that intersect with the current beach polygon\n",
    "    intersecting_points = combined_coast_awards[mask]\n",
    "    \n",
    "    # Sum the award columns for the intersecting points\n",
    "    # Assuming the award columns are 'blue_flag', 'seaside_award', 'green_coast'\n",
    "    beach_award_sum = intersecting_points[['blue_flag', 'seaside_award', 'green_coast']].sum().sum()\n",
    "    \n",
    "    # Assign the award sum to the beach's award_sum column\n",
    "    beaches_100.at[idx, 'coast_award_sum'] = beach_award_sum"
   ]
  },
  {
   "cell_type": "code",
   "execution_count": 50,
   "metadata": {},
   "outputs": [
    {
     "data": {
      "text/html": [
       "<div>\n",
       "<style scoped>\n",
       "    .dataframe tbody tr th:only-of-type {\n",
       "        vertical-align: middle;\n",
       "    }\n",
       "\n",
       "    .dataframe tbody tr th {\n",
       "        vertical-align: top;\n",
       "    }\n",
       "\n",
       "    .dataframe thead th {\n",
       "        text-align: right;\n",
       "    }\n",
       "</style>\n",
       "<table border=\"1\" class=\"dataframe\">\n",
       "  <thead>\n",
       "    <tr style=\"text-align: right;\">\n",
       "      <th></th>\n",
       "      <th>geometry</th>\n",
       "      <th>name</th>\n",
       "      <th>natural</th>\n",
       "      <th>surface</th>\n",
       "      <th>lifeguard</th>\n",
       "      <th>supervised</th>\n",
       "      <th>name:en</th>\n",
       "      <th>source</th>\n",
       "      <th>name:cy</th>\n",
       "      <th>wikidata</th>\n",
       "      <th>access</th>\n",
       "      <th>wikipedia</th>\n",
       "      <th>tidal</th>\n",
       "      <th>type</th>\n",
       "      <th>coast_award_sum</th>\n",
       "    </tr>\n",
       "  </thead>\n",
       "  <tbody>\n",
       "    <tr>\n",
       "      <th>0</th>\n",
       "      <td>POLYGON ((320716.603 677076.823, 320669.155 67...</td>\n",
       "      <td>Drum Sands</td>\n",
       "      <td>beach</td>\n",
       "      <td>sand</td>\n",
       "      <td>NaN</td>\n",
       "      <td>NaN</td>\n",
       "      <td>NaN</td>\n",
       "      <td>NaN</td>\n",
       "      <td>NaN</td>\n",
       "      <td>NaN</td>\n",
       "      <td>NaN</td>\n",
       "      <td>NaN</td>\n",
       "      <td>NaN</td>\n",
       "      <td>multipolygon</td>\n",
       "      <td>0</td>\n",
       "    </tr>\n",
       "    <tr>\n",
       "      <th>1</th>\n",
       "      <td>POLYGON ((119462.764 602141.967, 119545.29 602...</td>\n",
       "      <td>White Park Bay</td>\n",
       "      <td>beach</td>\n",
       "      <td>NaN</td>\n",
       "      <td>NaN</td>\n",
       "      <td>NaN</td>\n",
       "      <td>NaN</td>\n",
       "      <td>NaN</td>\n",
       "      <td>NaN</td>\n",
       "      <td>Q16903231</td>\n",
       "      <td>NaN</td>\n",
       "      <td>NaN</td>\n",
       "      <td>NaN</td>\n",
       "      <td>multipolygon</td>\n",
       "      <td>0</td>\n",
       "    </tr>\n",
       "    <tr>\n",
       "      <th>2</th>\n",
       "      <td>POLYGON ((332780.459 163169.415, 332778.988 16...</td>\n",
       "      <td>Sand Bay</td>\n",
       "      <td>beach</td>\n",
       "      <td>NaN</td>\n",
       "      <td>NaN</td>\n",
       "      <td>NaN</td>\n",
       "      <td>NaN</td>\n",
       "      <td>NaN</td>\n",
       "      <td>NaN</td>\n",
       "      <td>Q7415759</td>\n",
       "      <td>NaN</td>\n",
       "      <td>en:Sand Bay</td>\n",
       "      <td>NaN</td>\n",
       "      <td>multipolygon</td>\n",
       "      <td>0</td>\n",
       "    </tr>\n",
       "    <tr>\n",
       "      <th>3</th>\n",
       "      <td>POLYGON ((637525.866 243682.808, 637532.23 243...</td>\n",
       "      <td>Orford Beach</td>\n",
       "      <td>beach</td>\n",
       "      <td>pebblestone</td>\n",
       "      <td>NaN</td>\n",
       "      <td>NaN</td>\n",
       "      <td>NaN</td>\n",
       "      <td>NaN</td>\n",
       "      <td>NaN</td>\n",
       "      <td>NaN</td>\n",
       "      <td>NaN</td>\n",
       "      <td>NaN</td>\n",
       "      <td>NaN</td>\n",
       "      <td>multipolygon</td>\n",
       "      <td>0</td>\n",
       "    </tr>\n",
       "    <tr>\n",
       "      <th>5</th>\n",
       "      <td>POLYGON ((624768.266 225716.013, 624776.064 22...</td>\n",
       "      <td>NaN</td>\n",
       "      <td>beach</td>\n",
       "      <td>NaN</td>\n",
       "      <td>NaN</td>\n",
       "      <td>NaN</td>\n",
       "      <td>NaN</td>\n",
       "      <td>OS_OpenData_VectorDistrict</td>\n",
       "      <td>NaN</td>\n",
       "      <td>NaN</td>\n",
       "      <td>NaN</td>\n",
       "      <td>NaN</td>\n",
       "      <td>yes</td>\n",
       "      <td>multipolygon</td>\n",
       "      <td>0</td>\n",
       "    </tr>\n",
       "  </tbody>\n",
       "</table>\n",
       "</div>"
      ],
      "text/plain": [
       "                                            geometry            name natural  \\\n",
       "0  POLYGON ((320716.603 677076.823, 320669.155 67...      Drum Sands   beach   \n",
       "1  POLYGON ((119462.764 602141.967, 119545.29 602...  White Park Bay   beach   \n",
       "2  POLYGON ((332780.459 163169.415, 332778.988 16...        Sand Bay   beach   \n",
       "3  POLYGON ((637525.866 243682.808, 637532.23 243...    Orford Beach   beach   \n",
       "5  POLYGON ((624768.266 225716.013, 624776.064 22...             NaN   beach   \n",
       "\n",
       "       surface lifeguard supervised name:en                      source  \\\n",
       "0         sand       NaN        NaN     NaN                         NaN   \n",
       "1          NaN       NaN        NaN     NaN                         NaN   \n",
       "2          NaN       NaN        NaN     NaN                         NaN   \n",
       "3  pebblestone       NaN        NaN     NaN                         NaN   \n",
       "5          NaN       NaN        NaN     NaN  OS_OpenData_VectorDistrict   \n",
       "\n",
       "  name:cy   wikidata access    wikipedia tidal          type  coast_award_sum  \n",
       "0     NaN        NaN    NaN          NaN   NaN  multipolygon                0  \n",
       "1     NaN  Q16903231    NaN          NaN   NaN  multipolygon                0  \n",
       "2     NaN   Q7415759    NaN  en:Sand Bay   NaN  multipolygon                0  \n",
       "3     NaN        NaN    NaN          NaN   NaN  multipolygon                0  \n",
       "5     NaN        NaN    NaN          NaN   yes  multipolygon                0  "
      ]
     },
     "execution_count": 50,
     "metadata": {},
     "output_type": "execute_result"
    }
   ],
   "source": [
    "beaches_100.head()"
   ]
  },
  {
   "cell_type": "code",
   "execution_count": 51,
   "metadata": {},
   "outputs": [],
   "source": [
    "beaches_100.to_file(\"natural_assets_data_raw/beaches.gpkg\", layer='beaches', driver=\"GPKG\")"
   ]
  },
  {
   "cell_type": "code",
   "execution_count": 49,
   "metadata": {},
   "outputs": [
    {
     "data": {
      "text/plain": [
       "coast_award_sum\n",
       "0    713\n",
       "1     40\n",
       "2      5\n",
       "3      2\n",
       "Name: count, dtype: int64"
      ]
     },
     "execution_count": 49,
     "metadata": {},
     "output_type": "execute_result"
    }
   ],
   "source": [
    "beaches_100[\"coast_award_sum\"].value_counts()"
   ]
  },
  {
   "cell_type": "code",
   "execution_count": 52,
   "metadata": {},
   "outputs": [],
   "source": [
    "# natural_values = [\n",
    "#     \"wood\"\n",
    "#     # , \"tree\", \"tree_row\", \"scrub\", \"heath\", \"grassland\", \"fell\", \"bare_rock\",\n",
    "#     # \"scree\", \"shingle\", \"sand\", \"mud\", \"beach\", \"dune\", \"cliff\", \"rock\", \"stone\",\n",
    "#     # \"water\", \"wetland\", \"glacier\", \"reef\", \"cave_entrance\"\n",
    "# ]\n",
    "\n",
    "# features_2 = {}\n",
    "\n",
    "# for val in natural_values:\n",
    "#     tag_2 = {\"natural\": val}\n",
    "#     gdf = fetch_osm_features(\"United Kingdom\", tag_2, element_types=(\"way\", \"relation\"))\n",
    "#     if gdf is not None and not gdf.empty:\n",
    "#         features_2[val] = gdf\n",
    "#         print(f\"{val}: {len(gdf)} features\")\n",
    "#     else:\n",
    "#         print(f\"{val}: No features\")"
   ]
  },
  {
   "cell_type": "markdown",
   "metadata": {},
   "source": [
    "## Loading forests"
   ]
  },
  {
   "cell_type": "code",
   "execution_count": null,
   "metadata": {},
   "outputs": [
    {
     "name": "stderr",
     "output_type": "stream",
     "text": [
      "/opt/conda/lib/python3.11/site-packages/osmnx/_overpass.py:267: UserWarning: This area is 330 times your configured Overpass max query area size. It will automatically be divided up into multiple sub-queries accordingly. This may take a long time.\n",
      "  multi_poly_proj = utils_geo._consolidate_subdivide_geometry(poly_proj)\n"
     ]
    }
   ],
   "source": [
    "forest = ox.features_from_place(\"United Kingdom\", tags = {\"boundary\": \"forest\"})\n",
    "forest = forest.to_crs(epsg=27700)\n",
    "forest = forest[beaches.geometry.geom_type.isin(['Polygon', 'MultiPolygon'])]\n",
    "forest = forest[~woods.geometry.duplicated()].reset_index(drop=True)"
   ]
  },
  {
   "cell_type": "code",
   "execution_count": null,
   "metadata": {},
   "outputs": [],
   "source": [
    "beaches_100 = forest[forest.geometry.area > 100_000]\n",
    "beaches_100 = beaches_100[~beaches_100[\"access\"].isin([\"private\", \"no\"])]\n",
    "threshold = 0.98  # 90% NaNs\n",
    "beaches_100 = beaches_100.loc[:, beaches_100.isna().mean() < threshold]"
   ]
  },
  {
   "cell_type": "code",
   "execution_count": null,
   "metadata": {},
   "outputs": [],
   "source": [
    "tags = {\n",
    "  \"type\": \"railwayStation\"\n",
    "}\n",
    "\n",
    "stations = fetch_osm_features(\"England\", tags, element_types=(\"nodes\"))\n",
    "\n",
    "print(stations.head())\n",
    "print(f\"Total features: {len(stations)}\")\n",
    "\n",
    "# Save or plot\n",
    "# gdf.to_file(\"filtered_features.geojson\", driver=\"GeoJSON\")\n",
    "stations.plot()"
   ]
  },
  {
   "cell_type": "code",
   "execution_count": null,
   "metadata": {},
   "outputs": [],
   "source": [
    "https://hub.arcgis.com/datasets/RSPB::ibas-uk/about"
   ]
  },
  {
   "cell_type": "markdown",
   "metadata": {},
   "source": [
    "## Loading stations"
   ]
  },
  {
   "cell_type": "code",
   "execution_count": null,
   "metadata": {},
   "outputs": [],
   "source": [
    "stations = ox.features_from_place(\"United Kingdom\", tags = {\"type\": \"railwayStation\"})\n",
    "stations = stations.to_crs(epsg=27700)\n",
    "stations = stations[beaches.geometry.geom_type.isin(['Polygon', 'MultiPolygon'])]\n",
    "stations = stations[~stations.geometry.duplicated()].reset_index(drop=True)"
   ]
  }
 ],
 "metadata": {
  "kernelspec": {
   "display_name": "Python (base)",
   "language": "python",
   "name": "base"
  },
  "language_info": {
   "codemirror_mode": {
    "name": "ipython",
    "version": 3
   },
   "file_extension": ".py",
   "mimetype": "text/x-python",
   "name": "python",
   "nbconvert_exporter": "python",
   "pygments_lexer": "ipython3",
   "version": "3.11.9"
  }
 },
 "nbformat": 4,
 "nbformat_minor": 4
}
