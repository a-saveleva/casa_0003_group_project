{
 "cells": [
  {
   "cell_type": "code",
   "execution_count": 2,
   "metadata": {},
   "outputs": [],
   "source": [
    "# %pip install OSMPythonTools"
   ]
  },
  {
   "cell_type": "code",
   "execution_count": 1,
   "metadata": {},
   "outputs": [],
   "source": [
    "# %pip install shapely"
   ]
  },
  {
   "cell_type": "code",
   "execution_count": 16,
   "metadata": {},
   "outputs": [
    {
     "name": "stdout",
     "output_type": "stream",
     "text": [
      "Collecting osmnx\n",
      "  Downloading osmnx-2.0.2-py3-none-any.whl.metadata (4.9 kB)\n",
      "Requirement already satisfied: geopandas>=1.0 in /opt/conda/lib/python3.11/site-packages (from osmnx) (1.0.1)\n",
      "Requirement already satisfied: networkx>=2.5 in /opt/conda/lib/python3.11/site-packages (from osmnx) (3.3)\n",
      "Requirement already satisfied: numpy>=1.22 in /opt/conda/lib/python3.11/site-packages (from osmnx) (1.26.4)\n",
      "Requirement already satisfied: pandas>=1.4 in /opt/conda/lib/python3.11/site-packages (from osmnx) (2.2.2)\n",
      "Requirement already satisfied: requests>=2.27 in /opt/conda/lib/python3.11/site-packages (from osmnx) (2.32.3)\n",
      "Requirement already satisfied: shapely>=2.0 in /opt/conda/lib/python3.11/site-packages (from osmnx) (2.0.6)\n",
      "Requirement already satisfied: pyogrio>=0.7.2 in /opt/conda/lib/python3.11/site-packages (from geopandas>=1.0->osmnx) (0.9.0)\n",
      "Requirement already satisfied: packaging in /opt/conda/lib/python3.11/site-packages (from geopandas>=1.0->osmnx) (24.1)\n",
      "Requirement already satisfied: pyproj>=3.3.0 in /opt/conda/lib/python3.11/site-packages (from geopandas>=1.0->osmnx) (3.6.1)\n",
      "Requirement already satisfied: python-dateutil>=2.8.2 in /opt/conda/lib/python3.11/site-packages (from pandas>=1.4->osmnx) (2.9.0)\n",
      "Requirement already satisfied: pytz>=2020.1 in /opt/conda/lib/python3.11/site-packages (from pandas>=1.4->osmnx) (2024.1)\n",
      "Requirement already satisfied: tzdata>=2022.7 in /opt/conda/lib/python3.11/site-packages (from pandas>=1.4->osmnx) (2024.1)\n",
      "Requirement already satisfied: charset-normalizer<4,>=2 in /opt/conda/lib/python3.11/site-packages (from requests>=2.27->osmnx) (3.3.2)\n",
      "Requirement already satisfied: idna<4,>=2.5 in /opt/conda/lib/python3.11/site-packages (from requests>=2.27->osmnx) (3.8)\n",
      "Requirement already satisfied: urllib3<3,>=1.21.1 in /opt/conda/lib/python3.11/site-packages (from requests>=2.27->osmnx) (2.2.2)\n",
      "Requirement already satisfied: certifi>=2017.4.17 in /opt/conda/lib/python3.11/site-packages (from requests>=2.27->osmnx) (2024.8.30)\n",
      "Requirement already satisfied: six>=1.5 in /opt/conda/lib/python3.11/site-packages (from python-dateutil>=2.8.2->pandas>=1.4->osmnx) (1.16.0)\n",
      "Downloading osmnx-2.0.2-py3-none-any.whl (99 kB)\n",
      "Installing collected packages: osmnx\n",
      "Successfully installed osmnx-2.0.2\n",
      "Note: you may need to restart the kernel to use updated packages.\n"
     ]
    }
   ],
   "source": [
    "%pip install osmnx"
   ]
  },
  {
   "cell_type": "code",
   "execution_count": 2,
   "metadata": {},
   "outputs": [],
   "source": [
    "import pandas as pd\n",
    "import geopandas as gpd\n",
    "\n",
    "import matplotlib.pyplot as plt\n",
    "\n",
    "import requests\n",
    "from shapely.geometry import shape\n",
    "from shapely.geometry import Polygon, LineString, MultiLineString\n",
    "from shapely.ops import polygonize, unary_union\n",
    "\n",
    "import osmnx as ox\n",
    "\n",
    "# from OSMPythonTools.api import Api\n",
    "# from OSMPythonTools.overpass import Overpass\n",
    "# from OSMPythonTools.nominatim import Nominatim\n",
    "\n",
    "# import random\n",
    "# from shapely.geometry import Point, LineString\n",
    "# from shapely.ops import unary_union\n",
    "# from shapely import offset_curve\n",
    "# from dotenv import load_dotenv\n",
    "# import requests\n",
    "\n",
    "%matplotlib inline\n",
    "pd.set_option('display.max_columns', None)  # Show all columns"
   ]
  },
  {
   "cell_type": "code",
   "execution_count": 59,
   "metadata": {},
   "outputs": [],
   "source": [
    "uk_boundaries = gpd.read_file(\"natural_assets_data_raw/uk_boundaries.gpkg\")"
   ]
  },
  {
   "cell_type": "markdown",
   "metadata": {},
   "source": [
    "## Loading protected areas"
   ]
  },
  {
   "cell_type": "code",
   "execution_count": 63,
   "metadata": {},
   "outputs": [],
   "source": [
    "protected_areas = ox.features_from_place(\"United Kingdom\", tags = {\"boundary\": \"protected_area\"})\n",
    "protected_areas = protected_areas.to_crs(epsg=27700)\n",
    "protected_areas = protected_areas[protected_areas.geometry.geom_type.isin(['Polygon', 'MultiPolygon'])]\n",
    "protected_areas = protected_areas[~protected_areas.geometry.duplicated()].reset_index(drop=True)"
   ]
  },
  {
   "cell_type": "code",
   "execution_count": 72,
   "metadata": {},
   "outputs": [
    {
     "name": "stdout",
     "output_type": "stream",
     "text": [
      "<class 'geopandas.geodataframe.GeoDataFrame'>\n",
      "RangeIndex: 1145 entries, 0 to 1144\n",
      "Columns: 251 entries, geometry to short_name:en\n",
      "dtypes: geometry(1), object(250)\n",
      "memory usage: 2.2+ MB\n"
     ]
    }
   ],
   "source": [
    "protected_areas.info()"
   ]
  },
  {
   "cell_type": "code",
   "execution_count": 86,
   "metadata": {},
   "outputs": [
    {
     "name": "stdout",
     "output_type": "stream",
     "text": [
      "<class 'geopandas.geodataframe.GeoDataFrame'>\n",
      "Index: 1131 entries, 0 to 1144\n",
      "Data columns (total 18 columns):\n",
      " #   Column            Non-Null Count  Dtype   \n",
      "---  ------            --------------  -----   \n",
      " 0   geometry          1131 non-null   geometry\n",
      " 1   boundary          1131 non-null   object  \n",
      " 2   protect_class     369 non-null    object  \n",
      " 3   name              984 non-null    object  \n",
      " 4   protection_title  322 non-null    object  \n",
      " 5   wikidata          323 non-null    object  \n",
      " 6   wikipedia         265 non-null    object  \n",
      " 7   operator          209 non-null    object  \n",
      " 8   alt_name          72 non-null     object  \n",
      " 9   source            339 non-null    object  \n",
      " 10  leisure           475 non-null    object  \n",
      " 11  start_date        72 non-null     object  \n",
      " 12  website           238 non-null    object  \n",
      " 13  note              57 non-null     object  \n",
      " 14  designation       466 non-null    object  \n",
      " 15  natural           131 non-null    object  \n",
      " 16  name:gd           74 non-null     object  \n",
      " 17  type              371 non-null    object  \n",
      "dtypes: geometry(1), object(17)\n",
      "memory usage: 167.9+ KB\n"
     ]
    }
   ],
   "source": [
    "protected_areas_over100 = protected_areas\n",
    "protected_areas_over100 = protected_areas_over100[protected_areas_over100[\"access\"] != \"no\"]\n",
    "# threshold = 0.95  # 90% NaNs\n",
    "protected_areas_over100 = protected_areas_over100.loc[:, protected_areas_over100.isna().mean() < threshold]\n",
    "# protected_areas_over100.info()"
   ]
  },
  {
   "cell_type": "code",
   "execution_count": 89,
   "metadata": {},
   "outputs": [
    {
     "data": {
      "text/html": [
       "<div>\n",
       "<style scoped>\n",
       "    .dataframe tbody tr th:only-of-type {\n",
       "        vertical-align: middle;\n",
       "    }\n",
       "\n",
       "    .dataframe tbody tr th {\n",
       "        vertical-align: top;\n",
       "    }\n",
       "\n",
       "    .dataframe thead th {\n",
       "        text-align: right;\n",
       "    }\n",
       "</style>\n",
       "<table border=\"1\" class=\"dataframe\">\n",
       "  <thead>\n",
       "    <tr style=\"text-align: right;\">\n",
       "      <th></th>\n",
       "      <th>geometry</th>\n",
       "      <th>boundary</th>\n",
       "      <th>protect_class</th>\n",
       "      <th>name</th>\n",
       "      <th>protection_title</th>\n",
       "      <th>wikidata</th>\n",
       "      <th>wikipedia</th>\n",
       "      <th>operator</th>\n",
       "      <th>alt_name</th>\n",
       "      <th>source</th>\n",
       "      <th>leisure</th>\n",
       "      <th>start_date</th>\n",
       "      <th>website</th>\n",
       "      <th>note</th>\n",
       "      <th>designation</th>\n",
       "      <th>natural</th>\n",
       "      <th>name:gd</th>\n",
       "      <th>type</th>\n",
       "    </tr>\n",
       "  </thead>\n",
       "  <tbody>\n",
       "    <tr>\n",
       "      <th>0</th>\n",
       "      <td>POLYGON ((257432.785 147408.06, 257422.647 147...</td>\n",
       "      <td>protected_area</td>\n",
       "      <td>5</td>\n",
       "      <td>Exmoor National Park</td>\n",
       "      <td>national_park</td>\n",
       "      <td>Q593627</td>\n",
       "      <td>en:Exmoor</td>\n",
       "      <td>NaN</td>\n",
       "      <td>NaN</td>\n",
       "      <td>NaN</td>\n",
       "      <td>NaN</td>\n",
       "      <td>NaN</td>\n",
       "      <td>https://www.exmoor-nationalpark.gov.uk/</td>\n",
       "      <td>Contains public sector information licensed un...</td>\n",
       "      <td>national_park</td>\n",
       "      <td>NaN</td>\n",
       "      <td>NaN</td>\n",
       "      <td>boundary</td>\n",
       "    </tr>\n",
       "  </tbody>\n",
       "</table>\n",
       "</div>"
      ],
      "text/plain": [
       "                                            geometry        boundary  \\\n",
       "0  POLYGON ((257432.785 147408.06, 257422.647 147...  protected_area   \n",
       "\n",
       "  protect_class                  name protection_title wikidata  wikipedia  \\\n",
       "0             5  Exmoor National Park    national_park  Q593627  en:Exmoor   \n",
       "\n",
       "  operator alt_name source leisure start_date  \\\n",
       "0      NaN      NaN    NaN     NaN        NaN   \n",
       "\n",
       "                                   website  \\\n",
       "0  https://www.exmoor-nationalpark.gov.uk/   \n",
       "\n",
       "                                                note    designation natural  \\\n",
       "0  Contains public sector information licensed un...  national_park     NaN   \n",
       "\n",
       "  name:gd      type  \n",
       "0     NaN  boundary  "
      ]
     },
     "execution_count": 89,
     "metadata": {},
     "output_type": "execute_result"
    }
   ],
   "source": [
    "protected_areas_over100.head(1)"
   ]
  },
  {
   "cell_type": "code",
   "execution_count": 90,
   "metadata": {},
   "outputs": [],
   "source": [
    "protected_areas_over100 = protected_areas_over100[protected_areas_over100.geometry.intersects(uk_boundaries.union_all())]"
   ]
  },
  {
   "cell_type": "code",
   "execution_count": 92,
   "metadata": {},
   "outputs": [],
   "source": [
    "# fig, ax = plt.subplots(figsize=(20, 20))\n",
    "\n",
    "# protected_areas_over100.plot(ax=ax, cmap='tab20', alpha=0.6)\n",
    "\n",
    "# plt.title(\"Combined Features by Group\")\n",
    "# plt.legend()\n",
    "# plt.axis('off')\n",
    "# plt.show()"
   ]
  },
  {
   "cell_type": "code",
   "execution_count": 95,
   "metadata": {},
   "outputs": [],
   "source": [
    "protected_areas_over100.to_file(\"natural_assets_data_raw/protected_areas.gpkg\", layer='protected_areas', driver=\"GPKG\")"
   ]
  },
  {
   "cell_type": "markdown",
   "metadata": {},
   "source": [
    "## Loading parks"
   ]
  },
  {
   "cell_type": "code",
   "execution_count": 3,
   "metadata": {},
   "outputs": [
    {
     "name": "stderr",
     "output_type": "stream",
     "text": [
      "/opt/conda/lib/python3.11/site-packages/osmnx/_overpass.py:267: UserWarning: This area is 330 times your configured Overpass max query area size. It will automatically be divided up into multiple sub-queries accordingly. This may take a long time.\n",
      "  multi_poly_proj = utils_geo._consolidate_subdivide_geometry(poly_proj)\n"
     ]
    }
   ],
   "source": [
    "parks = ox.features_from_place(\"United Kingdom\", tags = {\"leisure\": \"park\", \"access\": \"public\"})\n",
    "parks = parks.to_crs(epsg=27700)\n",
    "\n",
    "parks = parks[parks.geometry.geom_type.isin(['Polygon', 'MultiPolygon'])]\n",
    "parks = parks[~parks.geometry.duplicated()].reset_index(drop=True)"
   ]
  },
  {
   "cell_type": "code",
   "execution_count": 38,
   "metadata": {},
   "outputs": [
    {
     "name": "stdout",
     "output_type": "stream",
     "text": [
      "<class 'geopandas.geodataframe.GeoDataFrame'>\n",
      "Index: 218 entries, 9 to 33798\n",
      "Data columns (total 21 columns):\n",
      " #   Column                            Non-Null Count  Dtype   \n",
      "---  ------                            --------------  -----   \n",
      " 0   geometry                          218 non-null    geometry\n",
      " 1   leisure                           218 non-null    object  \n",
      " 2   name                              213 non-null    object  \n",
      " 3   access                            21 non-null     object  \n",
      " 4   addr:city                         15 non-null     object  \n",
      " 5   addr:postcode                     15 non-null     object  \n",
      " 6   alt_name                          13 non-null     object  \n",
      " 7   website                           43 non-null     object  \n",
      " 8   tourism                           11 non-null     object  \n",
      " 9   wikidata                          98 non-null     object  \n",
      " 10  wikipedia                         71 non-null     object  \n",
      " 11  operator                          67 non-null     object  \n",
      " 12  operator:type                     35 non-null     object  \n",
      " 13  wheelchair                        11 non-null     object  \n",
      " 14  note                              20 non-null     object  \n",
      " 15  operator:wikidata                 35 non-null     object  \n",
      " 16  source                            43 non-null     object  \n",
      " 17  listed_status                     12 non-null     object  \n",
      " 18  type                              54 non-null     object  \n",
      " 19  boundary                          12 non-null     object  \n",
      " 20  communication:amateur_radio:pota  11 non-null     object  \n",
      "dtypes: geometry(1), object(20)\n",
      "memory usage: 37.5+ KB\n"
     ]
    }
   ],
   "source": [
    "parks_over100 = parks[parks.geometry.area > 1_000_000]\n",
    "parks_over100 = parks_over100[parks_over100[\"access\"] != \"private\"]\n",
    "threshold = 0.95  # 90% NaNs\n",
    "parks_over100 = parks_over100.loc[:, parks_over100.isna().mean() < threshold]\n",
    "parks_over100.info()"
   ]
  },
  {
   "cell_type": "code",
   "execution_count": 39,
   "metadata": {},
   "outputs": [
    {
     "data": {
      "text/html": [
       "<div>\n",
       "<style scoped>\n",
       "    .dataframe tbody tr th:only-of-type {\n",
       "        vertical-align: middle;\n",
       "    }\n",
       "\n",
       "    .dataframe tbody tr th {\n",
       "        vertical-align: top;\n",
       "    }\n",
       "\n",
       "    .dataframe thead th {\n",
       "        text-align: right;\n",
       "    }\n",
       "</style>\n",
       "<table border=\"1\" class=\"dataframe\">\n",
       "  <thead>\n",
       "    <tr style=\"text-align: right;\">\n",
       "      <th></th>\n",
       "      <th>geometry</th>\n",
       "      <th>leisure</th>\n",
       "      <th>name</th>\n",
       "      <th>access</th>\n",
       "      <th>addr:city</th>\n",
       "      <th>addr:postcode</th>\n",
       "      <th>alt_name</th>\n",
       "      <th>website</th>\n",
       "      <th>tourism</th>\n",
       "      <th>wikidata</th>\n",
       "      <th>wikipedia</th>\n",
       "      <th>operator</th>\n",
       "      <th>operator:type</th>\n",
       "      <th>wheelchair</th>\n",
       "      <th>note</th>\n",
       "      <th>operator:wikidata</th>\n",
       "      <th>source</th>\n",
       "      <th>listed_status</th>\n",
       "      <th>type</th>\n",
       "      <th>boundary</th>\n",
       "      <th>communication:amateur_radio:pota</th>\n",
       "    </tr>\n",
       "  </thead>\n",
       "  <tbody>\n",
       "    <tr>\n",
       "      <th>9</th>\n",
       "      <td>POLYGON ((455659.735 205492.151, 455662.648 20...</td>\n",
       "      <td>park</td>\n",
       "      <td>Shotover Country Park</td>\n",
       "      <td>NaN</td>\n",
       "      <td>NaN</td>\n",
       "      <td>NaN</td>\n",
       "      <td>NaN</td>\n",
       "      <td>NaN</td>\n",
       "      <td>NaN</td>\n",
       "      <td>Q24677877</td>\n",
       "      <td>NaN</td>\n",
       "      <td>NaN</td>\n",
       "      <td>NaN</td>\n",
       "      <td>NaN</td>\n",
       "      <td>NaN</td>\n",
       "      <td>NaN</td>\n",
       "      <td>NaN</td>\n",
       "      <td>NaN</td>\n",
       "      <td>multipolygon</td>\n",
       "      <td>NaN</td>\n",
       "      <td>NaN</td>\n",
       "    </tr>\n",
       "  </tbody>\n",
       "</table>\n",
       "</div>"
      ],
      "text/plain": [
       "                                            geometry leisure  \\\n",
       "9  POLYGON ((455659.735 205492.151, 455662.648 20...    park   \n",
       "\n",
       "                    name access addr:city addr:postcode alt_name website  \\\n",
       "9  Shotover Country Park    NaN       NaN           NaN      NaN     NaN   \n",
       "\n",
       "  tourism   wikidata wikipedia operator operator:type wheelchair note  \\\n",
       "9     NaN  Q24677877       NaN      NaN           NaN        NaN  NaN   \n",
       "\n",
       "  operator:wikidata source listed_status          type boundary  \\\n",
       "9               NaN    NaN           NaN  multipolygon      NaN   \n",
       "\n",
       "  communication:amateur_radio:pota  \n",
       "9                              NaN  "
      ]
     },
     "execution_count": 39,
     "metadata": {},
     "output_type": "execute_result"
    }
   ],
   "source": [
    "parks_over100.head(1) #see useful comments"
   ]
  },
  {
   "cell_type": "code",
   "execution_count": 41,
   "metadata": {},
   "outputs": [],
   "source": [
    "parks_over100.to_file(\"natural_assets_data_raw/parks_over100ha.gpkg\", layer='parks', driver=\"GPKG\")"
   ]
  },
  {
   "cell_type": "markdown",
   "metadata": {},
   "source": [
    "## Loading nature reserves"
   ]
  },
  {
   "cell_type": "code",
   "execution_count": 42,
   "metadata": {},
   "outputs": [
    {
     "name": "stderr",
     "output_type": "stream",
     "text": [
      "/opt/conda/lib/python3.11/site-packages/osmnx/_overpass.py:267: UserWarning: This area is 330 times your configured Overpass max query area size. It will automatically be divided up into multiple sub-queries accordingly. This may take a long time.\n",
      "  multi_poly_proj = utils_geo._consolidate_subdivide_geometry(poly_proj)\n"
     ]
    }
   ],
   "source": [
    "nature_reserves = ox.features_from_place(\"United Kingdom\", tags = {\"leisure\": \"nature_reserve\"})\n",
    "nature_reserves = nature_reserves.to_crs(epsg=27700)\n",
    "\n",
    "nature_reserves = nature_reserves[nature_reserves.geometry.geom_type.isin(['Polygon', 'MultiPolygon'])]\n",
    "nature_reserves = nature_reserves[~nature_reserves.geometry.duplicated()].reset_index(drop=True)"
   ]
  },
  {
   "cell_type": "code",
   "execution_count": 57,
   "metadata": {},
   "outputs": [
    {
     "name": "stdout",
     "output_type": "stream",
     "text": [
      "<class 'geopandas.geodataframe.GeoDataFrame'>\n",
      "Index: 76 entries, 9 to 3397\n",
      "Data columns (total 18 columns):\n",
      " #   Column            Non-Null Count  Dtype   \n",
      "---  ------            --------------  -----   \n",
      " 0   geometry          76 non-null     geometry\n",
      " 1   leisure           76 non-null     object  \n",
      " 2   name              69 non-null     object  \n",
      " 3   operator          26 non-null     object  \n",
      " 4   operator:type     4 non-null      object  \n",
      " 5   source            13 non-null     object  \n",
      " 6   website           19 non-null     object  \n",
      " 7   access            4 non-null      object  \n",
      " 8   wikidata          17 non-null     object  \n",
      " 9   wikipedia         13 non-null     object  \n",
      " 10  fixme             4 non-null      object  \n",
      " 11  designation       7 non-null      object  \n",
      " 12  natural           14 non-null     object  \n",
      " 13  boundary          20 non-null     object  \n",
      " 14  protection_title  4 non-null      object  \n",
      " 15  name:gd           4 non-null      object  \n",
      " 16  protect_class     6 non-null      object  \n",
      " 17  type              35 non-null     object  \n",
      "dtypes: geometry(1), object(17)\n",
      "memory usage: 11.3+ KB\n"
     ]
    },
    {
     "name": "stderr",
     "output_type": "stream",
     "text": [
      "/opt/conda/lib/python3.11/site-packages/geopandas/geodataframe.py:1750: UserWarning: Boolean Series key will be reindexed to match DataFrame index.\n",
      "  result = super().__getitem__(key)\n"
     ]
    }
   ],
   "source": [
    "nature_reserves_100 = nature_reserves[parks.geometry.area > 1_000_000]\n",
    "nature_reserves_100 = nature_reserves_100[~nature_reserves_100[\"access\"].isin([\"private\", \"no\"])]\n",
    "threshold = 0.95  # 90% NaNs\n",
    "nature_reserves_100 = nature_reserves_100.loc[:, nature_reserves_100.isna().mean() < threshold]\n",
    "nature_reserves_100.info()"
   ]
  },
  {
   "cell_type": "code",
   "execution_count": 58,
   "metadata": {},
   "outputs": [
    {
     "data": {
      "text/plain": [
       "access\n",
       "permissive    3\n",
       "permit        1\n",
       "Name: count, dtype: int64"
      ]
     },
     "execution_count": 58,
     "metadata": {},
     "output_type": "execute_result"
    }
   ],
   "source": [
    "nature_reserves_100[\"access\"].value_counts()"
   ]
  },
  {
   "cell_type": "markdown",
   "metadata": {},
   "source": [
    "nature_reserves_100 = nature_reserves_100[nature_reserves_100.geometry.intersects(uk_boundaries.union_all())]"
   ]
  },
  {
   "cell_type": "code",
   "execution_count": 61,
   "metadata": {},
   "outputs": [],
   "source": [
    "nature_reserves_100.to_file(\"natural_assets_data_raw/nature_reserves_over100ha.gpkg\", layer='nature_reserves', driver=\"GPKG\")"
   ]
  },
  {
   "cell_type": "code",
   "execution_count": 94,
   "metadata": {},
   "outputs": [],
   "source": [
    "# fig, ax = plt.subplots(figsize=(20, 20))\n",
    "\n",
    "# nature_reserves_100.plot(ax=ax, cmap='tab20', alpha=0.6)\n",
    "\n",
    "# plt.title(\"Combined Features by Group\")\n",
    "# plt.legend()\n",
    "# plt.axis('off')\n",
    "# plt.show()"
   ]
  },
  {
   "cell_type": "markdown",
   "metadata": {},
   "source": [
    "## Loading gardens"
   ]
  },
  {
   "cell_type": "code",
   "execution_count": 96,
   "metadata": {},
   "outputs": [
    {
     "name": "stderr",
     "output_type": "stream",
     "text": [
      "/opt/conda/lib/python3.11/site-packages/osmnx/_overpass.py:267: UserWarning: This area is 330 times your configured Overpass max query area size. It will automatically be divided up into multiple sub-queries accordingly. This may take a long time.\n",
      "  multi_poly_proj = utils_geo._consolidate_subdivide_geometry(poly_proj)\n"
     ]
    }
   ],
   "source": [
    "gardens = ox.features_from_place(\"United Kingdom\", tags = {\"leisure\": \"garden\"})\n",
    "gardens = gardens.to_crs(epsg=27700)\n",
    "gardens = gardens[gardens.geometry.geom_type.isin(['Polygon', 'MultiPolygon'])]\n",
    "gardens = gardens[~gardens.geometry.duplicated()].reset_index(drop=True)"
   ]
  },
  {
   "cell_type": "code",
   "execution_count": 99,
   "metadata": {},
   "outputs": [
    {
     "name": "stdout",
     "output_type": "stream",
     "text": [
      "<class 'geopandas.geodataframe.GeoDataFrame'>\n",
      "RangeIndex: 284045 entries, 0 to 284044\n",
      "Columns: 384 entries, geometry to power\n",
      "dtypes: geometry(1), object(383)\n",
      "memory usage: 832.2+ MB\n"
     ]
    }
   ],
   "source": [
    "gardens.info()"
   ]
  },
  {
   "cell_type": "code",
   "execution_count": 101,
   "metadata": {},
   "outputs": [
    {
     "name": "stdout",
     "output_type": "stream",
     "text": [
      "<class 'geopandas.geodataframe.GeoDataFrame'>\n",
      "Index: 119 entries, 1 to 264325\n",
      "Data columns (total 21 columns):\n",
      " #   Column         Non-Null Count  Dtype   \n",
      "---  ------         --------------  -----   \n",
      " 0   geometry       119 non-null    geometry\n",
      " 1   leisure        119 non-null    object  \n",
      " 2   name           78 non-null     object  \n",
      " 3   wikidata       43 non-null     object  \n",
      " 4   wikipedia      26 non-null     object  \n",
      " 5   opening_hours  9 non-null      object  \n",
      " 6   garden:type    31 non-null     object  \n",
      " 7   website        30 non-null     object  \n",
      " 8   tourism        24 non-null     object  \n",
      " 9   access         21 non-null     object  \n",
      " 10  source         17 non-null     object  \n",
      " 11  email          10 non-null     object  \n",
      " 12  fee            18 non-null     object  \n",
      " 13  operator       23 non-null     object  \n",
      " 14  operator:type  8 non-null      object  \n",
      " 15  addr:city      13 non-null     object  \n",
      " 16  addr:postcode  14 non-null     object  \n",
      " 17  phone          13 non-null     object  \n",
      " 18  wheelchair     10 non-null     object  \n",
      " 19  landuse        13 non-null     object  \n",
      " 20  type           29 non-null     object  \n",
      "dtypes: geometry(1), object(20)\n",
      "memory usage: 20.5+ KB\n"
     ]
    }
   ],
   "source": [
    "gardens_100 = gardens[gardens.geometry.area > 100_000]\n",
    "gardens_100 = gardens_100[~gardens_100[\"access\"].isin([\"private\", \"no\"])]\n",
    "threshold = 0.95  # 90% NaNs\n",
    "gardens_100 = gardens_100.loc[:, gardens_100.isna().mean() < threshold]\n",
    "# gardens_100.info()"
   ]
  },
  {
   "cell_type": "code",
   "execution_count": 103,
   "metadata": {},
   "outputs": [],
   "source": [
    "# fig, ax = plt.subplots(figsize=(20, 20))\n",
    "\n",
    "# gardens_100.plot(ax=ax, cmap='tab20', alpha=0.6)\n",
    "\n",
    "# plt.title(\"Combined Features by Group\")\n",
    "# plt.legend()\n",
    "# plt.axis('off')\n",
    "# plt.show()"
   ]
  },
  {
   "cell_type": "code",
   "execution_count": 105,
   "metadata": {},
   "outputs": [],
   "source": [
    "gardens_100.to_file(\"natural_assets_data_raw/gardens_over10ha.gpkg\", layer='gardens', driver=\"GPKG\")"
   ]
  },
  {
   "cell_type": "markdown",
   "metadata": {},
   "source": [
    "## Loading beaches"
   ]
  },
  {
   "cell_type": "code",
   "execution_count": null,
   "metadata": {},
   "outputs": [],
   "source": [
    "beaches = ox.features_from_place(\"United Kingdom\", tags = {\"natural\": \"beach\"})\n",
    "beaches = beaches.to_crs(epsg=27700)\n",
    "beaches = beaches[beaches.geometry.geom_type.isin(['Polygon', 'MultiPolygon'])]\n",
    "beaches = beaches[~beaches.geometry.duplicated()].reset_index(drop=True)"
   ]
  },
  {
   "cell_type": "code",
   "execution_count": 3,
   "metadata": {},
   "outputs": [
    {
     "ename": "NameError",
     "evalue": "name 'requests' is not defined",
     "output_type": "error",
     "traceback": [
      "\u001b[0;31m---------------------------------------------------------------------------\u001b[0m",
      "\u001b[0;31mNameError\u001b[0m                                 Traceback (most recent call last)",
      "Cell \u001b[0;32mIn[3], line 12\u001b[0m\n\u001b[1;32m     10\u001b[0m \u001b[38;5;28;01mfor\u001b[39;00m val \u001b[38;5;129;01min\u001b[39;00m natural_values:\n\u001b[1;32m     11\u001b[0m     tag_2 \u001b[38;5;241m=\u001b[39m {\u001b[38;5;124m\"\u001b[39m\u001b[38;5;124mnatural\u001b[39m\u001b[38;5;124m\"\u001b[39m: val}\n\u001b[0;32m---> 12\u001b[0m     gdf \u001b[38;5;241m=\u001b[39m \u001b[43mfetch_osm_features\u001b[49m\u001b[43m(\u001b[49m\u001b[38;5;124;43m\"\u001b[39;49m\u001b[38;5;124;43mUnited Kingdom\u001b[39;49m\u001b[38;5;124;43m\"\u001b[39;49m\u001b[43m,\u001b[49m\u001b[43m \u001b[49m\u001b[43mtag_2\u001b[49m\u001b[43m,\u001b[49m\u001b[43m \u001b[49m\u001b[43melement_types\u001b[49m\u001b[38;5;241;43m=\u001b[39;49m\u001b[43m(\u001b[49m\u001b[38;5;124;43m\"\u001b[39;49m\u001b[38;5;124;43mway\u001b[39;49m\u001b[38;5;124;43m\"\u001b[39;49m\u001b[43m,\u001b[49m\u001b[43m \u001b[49m\u001b[38;5;124;43m\"\u001b[39;49m\u001b[38;5;124;43mrelation\u001b[39;49m\u001b[38;5;124;43m\"\u001b[39;49m\u001b[43m)\u001b[49m\u001b[43m)\u001b[49m\n\u001b[1;32m     13\u001b[0m     \u001b[38;5;28;01mif\u001b[39;00m gdf \u001b[38;5;129;01mis\u001b[39;00m \u001b[38;5;129;01mnot\u001b[39;00m \u001b[38;5;28;01mNone\u001b[39;00m \u001b[38;5;129;01mand\u001b[39;00m \u001b[38;5;129;01mnot\u001b[39;00m gdf\u001b[38;5;241m.\u001b[39mempty:\n\u001b[1;32m     14\u001b[0m         features_2[val] \u001b[38;5;241m=\u001b[39m gdf\n",
      "Cell \u001b[0;32mIn[2], line 34\u001b[0m, in \u001b[0;36mfetch_osm_features\u001b[0;34m(area_name, tags, element_types)\u001b[0m\n\u001b[1;32m     22\u001b[0m overpass_query \u001b[38;5;241m=\u001b[39m \u001b[38;5;124mf\u001b[39m\u001b[38;5;124m\"\"\"\u001b[39m\n\u001b[1;32m     23\u001b[0m \u001b[38;5;124m[out:json][timeout:300];\u001b[39m\n\u001b[1;32m     24\u001b[0m \u001b[38;5;124marea[\u001b[39m\u001b[38;5;124m\"\u001b[39m\u001b[38;5;124mname\u001b[39m\u001b[38;5;124m\"\u001b[39m\u001b[38;5;124m=\u001b[39m\u001b[38;5;124m\"\u001b[39m\u001b[38;5;132;01m{\u001b[39;00marea_name\u001b[38;5;132;01m}\u001b[39;00m\u001b[38;5;124m\"\u001b[39m\u001b[38;5;124m]->.searchArea;\u001b[39m\n\u001b[0;32m   (...)\u001b[0m\n\u001b[1;32m     30\u001b[0m \u001b[38;5;124mout skel qt;\u001b[39m\n\u001b[1;32m     31\u001b[0m \u001b[38;5;124m\u001b[39m\u001b[38;5;124m\"\"\"\u001b[39m\n\u001b[1;32m     33\u001b[0m \u001b[38;5;66;03m# Query Overpass API\u001b[39;00m\n\u001b[0;32m---> 34\u001b[0m response \u001b[38;5;241m=\u001b[39m \u001b[43mrequests\u001b[49m\u001b[38;5;241m.\u001b[39mget(overpass_url, params\u001b[38;5;241m=\u001b[39m{\u001b[38;5;124m'\u001b[39m\u001b[38;5;124mdata\u001b[39m\u001b[38;5;124m'\u001b[39m: overpass_query})\n\u001b[1;32m     35\u001b[0m data \u001b[38;5;241m=\u001b[39m response\u001b[38;5;241m.\u001b[39mjson()\n\u001b[1;32m     37\u001b[0m \u001b[38;5;66;03m# Split OSM elements by type\u001b[39;00m\n",
      "\u001b[0;31mNameError\u001b[0m: name 'requests' is not defined"
     ]
    }
   ],
   "source": [
    "natural_values = [\n",
    "    \"wood\"\n",
    "    # , \"tree\", \"tree_row\", \"scrub\", \"heath\", \"grassland\", \"fell\", \"bare_rock\",\n",
    "    # \"scree\", \"shingle\", \"sand\", \"mud\", \"beach\", \"dune\", \"cliff\", \"rock\", \"stone\",\n",
    "    # \"water\", \"wetland\", \"glacier\", \"reef\", \"cave_entrance\"\n",
    "]\n",
    "\n",
    "features_2 = {}\n",
    "\n",
    "for val in natural_values:\n",
    "    tag_2 = {\"natural\": val}\n",
    "    gdf = fetch_osm_features(\"United Kingdom\", tag_2, element_types=(\"way\", \"relation\"))\n",
    "    if gdf is not None and not gdf.empty:\n",
    "        features_2[val] = gdf\n",
    "        print(f\"{val}: {len(gdf)} features\")\n",
    "    else:\n",
    "        print(f\"{val}: No features\")"
   ]
  },
  {
   "cell_type": "code",
   "execution_count": null,
   "metadata": {},
   "outputs": [],
   "source": [
    "tags = {\n",
    "  \"type\": \"railwayStation\"\n",
    "}\n",
    "\n",
    "stations = fetch_osm_features(\"England\", tags, element_types=(\"nodes\"))\n",
    "\n",
    "print(stations.head())\n",
    "print(f\"Total features: {len(stations)}\")\n",
    "\n",
    "# Save or plot\n",
    "# gdf.to_file(\"filtered_features.geojson\", driver=\"GeoJSON\")\n",
    "stations.plot()"
   ]
  },
  {
   "cell_type": "code",
   "execution_count": null,
   "metadata": {},
   "outputs": [],
   "source": []
  }
 ],
 "metadata": {
  "kernelspec": {
   "display_name": "Python (base)",
   "language": "python",
   "name": "base"
  },
  "language_info": {
   "codemirror_mode": {
    "name": "ipython",
    "version": 3
   },
   "file_extension": ".py",
   "mimetype": "text/x-python",
   "name": "python",
   "nbconvert_exporter": "python",
   "pygments_lexer": "ipython3",
   "version": "3.11.9"
  }
 },
 "nbformat": 4,
 "nbformat_minor": 4
}
