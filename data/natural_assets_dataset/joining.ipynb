{
 "cells": [
  {
   "cell_type": "code",
   "execution_count": 15,
   "id": "b74fbfae-15f5-428d-ac2a-79acc7ae0a46",
   "metadata": {},
   "outputs": [],
   "source": [
    "cities = {\n",
    "    'San Francisco': {\n",
    "        'lat': 37.77, \n",
    "        'lon': -122.43,\n",
    "        'airport': 'SFO'},\n",
    "    'London': {\n",
    "        'lat': 51.51, \n",
    "        'lon': -0.08, \n",
    "        'airport': 'LDN'},\n",
    "    'Paris': {\n",
    "        'lat': 48.86,\n",
    "        'lon': 2.29, \n",
    "        'airport': 'PAR'},\n",
    "    'Beijing': {\n",
    "        'lat': 39.92,\n",
    "        'lon': 116.40,\n",
    "        'airport': 'BEI'},\n",
    "    'Chennai': { \n",
    "        'lat': 13.08, \n",
    "        'lon': 80.28, \n",
    "        'airport': 'MAA'}\n",
    "}"
   ]
  },
  {
   "cell_type": "code",
   "execution_count": 39,
   "id": "c90110a9-e244-4c0b-93b4-d7afe903f6bb",
   "metadata": {},
   "outputs": [
    {
     "name": "stdout",
     "output_type": "stream",
     "text": [
      " San Francisco is on latitude 37.77\n",
      " London is on latitude 51.51\n",
      " Paris is on latitude 48.86\n",
      " Beijing is on latitude 39.92\n",
      " Chennai is on latitude 13.08\n"
     ]
    }
   ],
   "source": [
    "for key,value in zip(cities.keys(),cities.values()):\n",
    "    lat,lon,airport = value.values()\n",
    "    \n",
    "    print(f\" {key} is on latitude {lat}\")"
   ]
  },
  {
   "cell_type": "code",
   "execution_count": 43,
   "id": "2ac2d02e-4a69-4f25-81fa-4b6952dd33d4",
   "metadata": {},
   "outputs": [
    {
     "name": "stdout",
     "output_type": "stream",
     "text": [
      "1 5\n",
      "2 6\n",
      "3 7\n",
      "4 None\n"
     ]
    }
   ],
   "source": [
    "l1 = [1,2,3,4]\n",
    "l2 = [5,6,7]\n",
    "for x,y in it.zip_longest(l1,l2):\n",
    "    print(x,y)"
   ]
  },
  {
   "cell_type": "code",
   "execution_count": 42,
   "id": "2ff79097-0058-4bd7-b7df-8ffe0a425c59",
   "metadata": {},
   "outputs": [],
   "source": [
    "import itertools as it"
   ]
  },
  {
   "cell_type": "code",
   "execution_count": null,
   "id": "bd1e6d44-57c2-4ad4-9f6d-c42035d39333",
   "metadata": {},
   "outputs": [],
   "source": [
    "it.zip_longest"
   ]
  }
 ],
 "metadata": {
  "kernelspec": {
   "display_name": "Python (base)",
   "language": "python",
   "name": "base"
  },
  "language_info": {
   "codemirror_mode": {
    "name": "ipython",
    "version": 3
   },
   "file_extension": ".py",
   "mimetype": "text/x-python",
   "name": "python",
   "nbconvert_exporter": "python",
   "pygments_lexer": "ipython3",
   "version": "3.11.9"
  }
 },
 "nbformat": 4,
 "nbformat_minor": 5
}
